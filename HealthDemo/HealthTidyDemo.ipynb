{
 "cells": [
  {
   "cell_type": "markdown",
   "metadata": {},
   "source": [
    "### Pre-talk notes for Speaker!\n",
    "During talk:\n",
    "* Minimise file browser\n",
    "* move to this folder cd .\\Documents\\GitHub\\working-with-twitter-data\\\n",
    "* Zoom in\n",
    "* Clear cells\n",
    "* Share public link -> * Share public link -> https://github.com/UKDataServiceOpen/working-with-twitter-data/blob/main/TidyingDemo.ipynb\n",
    "\n",
    "Talk time - 20 minutes"
   ]
  },
  {
   "cell_type": "markdown",
   "metadata": {},
   "source": [
    "# Twarc Tidying and Analysis\n",
    "This notebook will cover the exploration, tidying up and some basic analysis of the data collected by the [TwarcDemo in this repo](https://github.com/UKDataServiceOpen/working-with-twitter-data/blob/main/TwarcDemo.ipynb)\n",
    "\n",
    "We will be using the 1000 Vegan Tweets from \"Veganuary\" 2019. If I didn't show a Twarc demo before you can find these in `data/demoData.csv`, and if you didn't follow along there is a provided version of this data.\n",
    "\n",
    "So let's import some packages and read it in. "
   ]
  },
  {
   "cell_type": "code",
   "execution_count": 188,
   "metadata": {},
   "outputs": [],
   "source": [
    "# Import our packages for data viz and UKDS color palette\n",
    "import pandas as pd\n",
    "import numpy as np\n",
    "import matplotlib.pyplot as plt\n",
    "import seaborn as sns\n",
    "\n",
    "# plot styles\n",
    "plt.style.use('seaborn-whitegrid')\n",
    "plt.rcParams.update({'font.size': 28,\n",
    "                    'figure.figsize':(28,12)})\n",
    "\n",
    "# set seaborn style\n",
    "sns.set(rc={'figure.figsize':(12,8)})\n",
    "sns.set(font_scale=1.5)\n",
    "\n",
    "# create UKDS color palette\n",
    "# colors = ['#E03A6C', '#F5AD42', '#6C2B76']\n",
    "colors = ['#E03A6C', '#F5AD42', '#ECE64B', '#449858', '#43A6C6', '#6C2B76']\n",
    "\n",
    "# use n_colors to allow the colors to cycle\n",
    "palette = sns.set_palette(sns.color_palette(colors), n_colors=100)"
   ]
  },
  {
   "cell_type": "code",
   "execution_count": 189,
   "metadata": {},
   "outputs": [],
   "source": [
    "# Tweak default plotting styles\n",
    "import matplotlib.pyplot as plt\n",
    "plt.style.use('seaborn-whitegrid')\n",
    "plt.rcParams.update({'font.size': 22,\n",
    "                    'figure.figsize':(24,8)})"
   ]
  },
  {
   "cell_type": "code",
   "execution_count": 190,
   "metadata": {},
   "outputs": [
    {
     "data": {
      "text/html": [
       "<div>\n",
       "<style scoped>\n",
       "    .dataframe tbody tr th:only-of-type {\n",
       "        vertical-align: middle;\n",
       "    }\n",
       "\n",
       "    .dataframe tbody tr th {\n",
       "        vertical-align: top;\n",
       "    }\n",
       "\n",
       "    .dataframe thead th {\n",
       "        text-align: right;\n",
       "    }\n",
       "</style>\n",
       "<table border=\"1\" class=\"dataframe\">\n",
       "  <thead>\n",
       "    <tr style=\"text-align: right;\">\n",
       "      <th></th>\n",
       "      <th>id</th>\n",
       "      <th>conversation_id</th>\n",
       "      <th>referenced_tweets.replied_to.id</th>\n",
       "      <th>referenced_tweets.retweeted.id</th>\n",
       "      <th>referenced_tweets.quoted.id</th>\n",
       "      <th>author_id</th>\n",
       "      <th>in_reply_to_user_id</th>\n",
       "      <th>retweeted_user_id</th>\n",
       "      <th>quoted_user_id</th>\n",
       "      <th>created_at</th>\n",
       "      <th>...</th>\n",
       "      <th>geo.geo.bbox</th>\n",
       "      <th>geo.geo.type</th>\n",
       "      <th>geo.id</th>\n",
       "      <th>geo.name</th>\n",
       "      <th>geo.place_id</th>\n",
       "      <th>geo.place_type</th>\n",
       "      <th>__twarc.retrieved_at</th>\n",
       "      <th>__twarc.url</th>\n",
       "      <th>__twarc.version</th>\n",
       "      <th>Unnamed: 73</th>\n",
       "    </tr>\n",
       "  </thead>\n",
       "  <tbody>\n",
       "    <tr>\n",
       "      <th>0</th>\n",
       "      <td>1476704208074289156</td>\n",
       "      <td>1476701470447874050</td>\n",
       "      <td>1.476703e+18</td>\n",
       "      <td>NaN</td>\n",
       "      <td>NaN</td>\n",
       "      <td>181521084</td>\n",
       "      <td>1.226233e+08</td>\n",
       "      <td>NaN</td>\n",
       "      <td>NaN</td>\n",
       "      <td>2021-12-30 23:58:13+00:00</td>\n",
       "      <td>...</td>\n",
       "      <td>[-1.315192, 53.1109178, -1.229692, 53.148616]</td>\n",
       "      <td>Feature</td>\n",
       "      <td>0f4224b306ddf55e</td>\n",
       "      <td>Sutton in Ashfield</td>\n",
       "      <td>0f4224b306ddf55e</td>\n",
       "      <td>city</td>\n",
       "      <td>2022-02-16T06:36:23+00:00</td>\n",
       "      <td>https://api.twitter.com/2/tweets/search/all?ex...</td>\n",
       "      <td>2.9.2</td>\n",
       "      <td>NaN</td>\n",
       "    </tr>\n",
       "    <tr>\n",
       "      <th>1</th>\n",
       "      <td>1476702886050648077</td>\n",
       "      <td>1476701470447874050</td>\n",
       "      <td>1.476701e+18</td>\n",
       "      <td>NaN</td>\n",
       "      <td>NaN</td>\n",
       "      <td>181521084</td>\n",
       "      <td>1.815211e+08</td>\n",
       "      <td>NaN</td>\n",
       "      <td>NaN</td>\n",
       "      <td>2021-12-30 23:52:58+00:00</td>\n",
       "      <td>...</td>\n",
       "      <td>[-1.315192, 53.1109178, -1.229692, 53.148616]</td>\n",
       "      <td>Feature</td>\n",
       "      <td>0f4224b306ddf55e</td>\n",
       "      <td>Sutton in Ashfield</td>\n",
       "      <td>0f4224b306ddf55e</td>\n",
       "      <td>city</td>\n",
       "      <td>2022-02-16T06:36:23+00:00</td>\n",
       "      <td>https://api.twitter.com/2/tweets/search/all?ex...</td>\n",
       "      <td>2.9.2</td>\n",
       "      <td>NaN</td>\n",
       "    </tr>\n",
       "    <tr>\n",
       "      <th>2</th>\n",
       "      <td>1476701874116083712</td>\n",
       "      <td>1476686827331461128</td>\n",
       "      <td>1.476687e+18</td>\n",
       "      <td>NaN</td>\n",
       "      <td>NaN</td>\n",
       "      <td>1352804201101991941</td>\n",
       "      <td>6.538482e+07</td>\n",
       "      <td>NaN</td>\n",
       "      <td>NaN</td>\n",
       "      <td>2021-12-30 23:48:57+00:00</td>\n",
       "      <td>...</td>\n",
       "      <td>[-1.2894037, 52.5436614, -1.2730678, 52.5567908]</td>\n",
       "      <td>Feature</td>\n",
       "      <td>223a7c85e7e3ff1b</td>\n",
       "      <td>Stoney Stanton</td>\n",
       "      <td>223a7c85e7e3ff1b</td>\n",
       "      <td>city</td>\n",
       "      <td>2022-02-16T06:36:23+00:00</td>\n",
       "      <td>https://api.twitter.com/2/tweets/search/all?ex...</td>\n",
       "      <td>2.9.2</td>\n",
       "      <td>NaN</td>\n",
       "    </tr>\n",
       "    <tr>\n",
       "      <th>3</th>\n",
       "      <td>1476697453919408135</td>\n",
       "      <td>1476686090111275009</td>\n",
       "      <td>1.476697e+18</td>\n",
       "      <td>NaN</td>\n",
       "      <td>NaN</td>\n",
       "      <td>1318834717295300609</td>\n",
       "      <td>3.578058e+09</td>\n",
       "      <td>NaN</td>\n",
       "      <td>NaN</td>\n",
       "      <td>2021-12-30 23:31:23+00:00</td>\n",
       "      <td>...</td>\n",
       "      <td>[0.0748022, 51.4087608, 0.1889376, 51.478931]</td>\n",
       "      <td>Feature</td>\n",
       "      <td>569c1d39d5de5775</td>\n",
       "      <td>Bexley</td>\n",
       "      <td>569c1d39d5de5775</td>\n",
       "      <td>city</td>\n",
       "      <td>2022-02-16T06:36:23+00:00</td>\n",
       "      <td>https://api.twitter.com/2/tweets/search/all?ex...</td>\n",
       "      <td>2.9.2</td>\n",
       "      <td>NaN</td>\n",
       "    </tr>\n",
       "    <tr>\n",
       "      <th>4</th>\n",
       "      <td>1476694735628779526</td>\n",
       "      <td>1476397481869160455</td>\n",
       "      <td>1.476397e+18</td>\n",
       "      <td>NaN</td>\n",
       "      <td>NaN</td>\n",
       "      <td>390000120</td>\n",
       "      <td>3.547992e+09</td>\n",
       "      <td>NaN</td>\n",
       "      <td>NaN</td>\n",
       "      <td>2021-12-30 23:20:35+00:00</td>\n",
       "      <td>...</td>\n",
       "      <td>[-2.659936, 51.399367, -2.510844, 51.516387]</td>\n",
       "      <td>Feature</td>\n",
       "      <td>7f15dd80ac78ef40</td>\n",
       "      <td>Bristol</td>\n",
       "      <td>7f15dd80ac78ef40</td>\n",
       "      <td>city</td>\n",
       "      <td>2022-02-16T06:36:23+00:00</td>\n",
       "      <td>https://api.twitter.com/2/tweets/search/all?ex...</td>\n",
       "      <td>2.9.2</td>\n",
       "      <td>NaN</td>\n",
       "    </tr>\n",
       "  </tbody>\n",
       "</table>\n",
       "<p>5 rows × 74 columns</p>\n",
       "</div>"
      ],
      "text/plain": [
       "                    id      conversation_id  referenced_tweets.replied_to.id  \\\n",
       "0  1476704208074289156  1476701470447874050                     1.476703e+18   \n",
       "1  1476702886050648077  1476701470447874050                     1.476701e+18   \n",
       "2  1476701874116083712  1476686827331461128                     1.476687e+18   \n",
       "3  1476697453919408135  1476686090111275009                     1.476697e+18   \n",
       "4  1476694735628779526  1476397481869160455                     1.476397e+18   \n",
       "\n",
       "   referenced_tweets.retweeted.id  referenced_tweets.quoted.id  \\\n",
       "0                             NaN                          NaN   \n",
       "1                             NaN                          NaN   \n",
       "2                             NaN                          NaN   \n",
       "3                             NaN                          NaN   \n",
       "4                             NaN                          NaN   \n",
       "\n",
       "             author_id  in_reply_to_user_id  retweeted_user_id  \\\n",
       "0            181521084         1.226233e+08                NaN   \n",
       "1            181521084         1.815211e+08                NaN   \n",
       "2  1352804201101991941         6.538482e+07                NaN   \n",
       "3  1318834717295300609         3.578058e+09                NaN   \n",
       "4            390000120         3.547992e+09                NaN   \n",
       "\n",
       "   quoted_user_id                created_at  ...  \\\n",
       "0             NaN 2021-12-30 23:58:13+00:00  ...   \n",
       "1             NaN 2021-12-30 23:52:58+00:00  ...   \n",
       "2             NaN 2021-12-30 23:48:57+00:00  ...   \n",
       "3             NaN 2021-12-30 23:31:23+00:00  ...   \n",
       "4             NaN 2021-12-30 23:20:35+00:00  ...   \n",
       "\n",
       "                                       geo.geo.bbox geo.geo.type  \\\n",
       "0     [-1.315192, 53.1109178, -1.229692, 53.148616]      Feature   \n",
       "1     [-1.315192, 53.1109178, -1.229692, 53.148616]      Feature   \n",
       "2  [-1.2894037, 52.5436614, -1.2730678, 52.5567908]      Feature   \n",
       "3     [0.0748022, 51.4087608, 0.1889376, 51.478931]      Feature   \n",
       "4      [-2.659936, 51.399367, -2.510844, 51.516387]      Feature   \n",
       "\n",
       "             geo.id            geo.name      geo.place_id  geo.place_type  \\\n",
       "0  0f4224b306ddf55e  Sutton in Ashfield  0f4224b306ddf55e            city   \n",
       "1  0f4224b306ddf55e  Sutton in Ashfield  0f4224b306ddf55e            city   \n",
       "2  223a7c85e7e3ff1b      Stoney Stanton  223a7c85e7e3ff1b            city   \n",
       "3  569c1d39d5de5775              Bexley  569c1d39d5de5775            city   \n",
       "4  7f15dd80ac78ef40             Bristol  7f15dd80ac78ef40            city   \n",
       "\n",
       "        __twarc.retrieved_at  \\\n",
       "0  2022-02-16T06:36:23+00:00   \n",
       "1  2022-02-16T06:36:23+00:00   \n",
       "2  2022-02-16T06:36:23+00:00   \n",
       "3  2022-02-16T06:36:23+00:00   \n",
       "4  2022-02-16T06:36:23+00:00   \n",
       "\n",
       "                                         __twarc.url  __twarc.version  \\\n",
       "0  https://api.twitter.com/2/tweets/search/all?ex...            2.9.2   \n",
       "1  https://api.twitter.com/2/tweets/search/all?ex...            2.9.2   \n",
       "2  https://api.twitter.com/2/tweets/search/all?ex...            2.9.2   \n",
       "3  https://api.twitter.com/2/tweets/search/all?ex...            2.9.2   \n",
       "4  https://api.twitter.com/2/tweets/search/all?ex...            2.9.2   \n",
       "\n",
       "   Unnamed: 73  \n",
       "0          NaN  \n",
       "1          NaN  \n",
       "2          NaN  \n",
       "3          NaN  \n",
       "4          NaN  \n",
       "\n",
       "[5 rows x 74 columns]"
      ]
     },
     "execution_count": 190,
     "metadata": {},
     "output_type": "execute_result"
    }
   ],
   "source": [
    "# Read our data into a dataframe using pandas\n",
    "data = pd.read_csv('3monthCoughUK.csv', parse_dates=['created_at'])\n",
    "\n",
    "# The head function prints out the first 5 rows.\n",
    "data.head()"
   ]
  },
  {
   "cell_type": "markdown",
   "metadata": {},
   "source": [
    "We can test our tweets are real by taking the ID from the first column and replacing the ID in any tweet we can find, which I will demo!\n",
    "\n",
    "So we've got our data read in successfully, let's print out some of the tweet text to make sure they have something to do with veganism."
   ]
  },
  {
   "cell_type": "code",
   "execution_count": 191,
   "metadata": {},
   "outputs": [
    {
     "name": "stdout",
     "output_type": "stream",
     "text": [
      "I sneeze a lot in general sometimes for no apparent reason.\n",
      "\n",
      "\n",
      "@darrenmark69 Is sneezing the difference? Don't ever remember that being listed as a symptom for coN vid (not that I believe anything they say about it anyway)\n",
      "\n",
      "\n",
      "@petewall41 A week!!! Ffs. I had the shivers bad yesterday evening, cold one minute and hot the next. Bad fatigue, weakness, stiff muscles. It's been loads of fun 🤦‍♂️\n",
      "\n",
      "\n",
      "@waywardscots Definitely over 40, and had all those side effects since mine, yesterday morning. Working from home, and had to lie down for a couple of hours this afternoon because I didn't even have the strength to lift my arms to type. Joints aching, full body shivers and a horrific headache.\n",
      "\n",
      "\n",
      "@ItsMeNatashaP She reckons she's coming to the end of it as she's been coughing for a few days. I done a test earlier and was negative. Never say never though 😂\n",
      "\n",
      "\n"
     ]
    }
   ],
   "source": [
    "for index in [1,2,3,4,5]:\n",
    "    print(data['text'][index])\n",
    "    print('\\n')\n"
   ]
  },
  {
   "cell_type": "code",
   "execution_count": 192,
   "metadata": {},
   "outputs": [
    {
     "name": "stdout",
     "output_type": "stream",
     "text": [
      "<class 'pandas.core.frame.DataFrame'>\n",
      "RangeIndex: 7097 entries, 0 to 7096\n",
      "Data columns (total 74 columns):\n",
      " #   Column                                 Non-Null Count  Dtype              \n",
      "---  ------                                 --------------  -----              \n",
      " 0   id                                     7097 non-null   int64              \n",
      " 1   conversation_id                        7097 non-null   int64              \n",
      " 2   referenced_tweets.replied_to.id        3692 non-null   float64            \n",
      " 3   referenced_tweets.retweeted.id         0 non-null      float64            \n",
      " 4   referenced_tweets.quoted.id            369 non-null    float64            \n",
      " 5   author_id                              7097 non-null   int64              \n",
      " 6   in_reply_to_user_id                    3794 non-null   float64            \n",
      " 7   retweeted_user_id                      0 non-null      float64            \n",
      " 8   quoted_user_id                         369 non-null    float64            \n",
      " 9   created_at                             7097 non-null   datetime64[ns, UTC]\n",
      " 10  text                                   7097 non-null   object             \n",
      " 11  lang                                   7097 non-null   object             \n",
      " 12  source                                 7097 non-null   object             \n",
      " 13  public_metrics.like_count              7097 non-null   int64              \n",
      " 14  public_metrics.quote_count             7097 non-null   int64              \n",
      " 15  public_metrics.reply_count             7097 non-null   int64              \n",
      " 16  public_metrics.retweet_count           7097 non-null   int64              \n",
      " 17  reply_settings                         7097 non-null   object             \n",
      " 18  possibly_sensitive                     7097 non-null   bool               \n",
      " 19  withheld.scope                         0 non-null      float64            \n",
      " 20  withheld.copyright                     0 non-null      float64            \n",
      " 21  withheld.country_codes                 0 non-null      float64            \n",
      " 22  entities.annotations                   1518 non-null   object             \n",
      " 23  entities.cashtags                      0 non-null      float64            \n",
      " 24  entities.hashtags                      816 non-null    object             \n",
      " 25  entities.mentions                      3805 non-null   object             \n",
      " 26  entities.urls                          1379 non-null   object             \n",
      " 27  context_annotations                    2645 non-null   object             \n",
      " 28  attachments.media                      813 non-null    object             \n",
      " 29  attachments.media_keys                 813 non-null    object             \n",
      " 30  attachments.poll.duration_minutes      10 non-null     float64            \n",
      " 31  attachments.poll.end_datetime          10 non-null     object             \n",
      " 32  attachments.poll.id                    10 non-null     float64            \n",
      " 33  attachments.poll.options               10 non-null     object             \n",
      " 34  attachments.poll.voting_status         10 non-null     object             \n",
      " 35  attachments.poll_ids                   10 non-null     object             \n",
      " 36  author.id                              7097 non-null   int64              \n",
      " 37  author.created_at                      7097 non-null   object             \n",
      " 38  author.username                        7097 non-null   object             \n",
      " 39  author.name                            7097 non-null   object             \n",
      " 40  author.description                     6737 non-null   object             \n",
      " 41  author.entities.description.cashtags   2 non-null      object             \n",
      " 42  author.entities.description.hashtags   1246 non-null   object             \n",
      " 43  author.entities.description.mentions   1323 non-null   object             \n",
      " 44  author.entities.description.urls       295 non-null    object             \n",
      " 45  author.entities.url.urls               2635 non-null   object             \n",
      " 46  author.location                        6332 non-null   object             \n",
      " 47  author.pinned_tweet_id                 3589 non-null   float64            \n",
      " 48  author.profile_image_url               7097 non-null   object             \n",
      " 49  author.protected                       7097 non-null   bool               \n",
      " 50  author.public_metrics.followers_count  7097 non-null   int64              \n",
      " 51  author.public_metrics.following_count  7097 non-null   int64              \n",
      " 52  author.public_metrics.listed_count     7097 non-null   int64              \n",
      " 53  author.public_metrics.tweet_count      7097 non-null   int64              \n",
      " 54  author.url                             2635 non-null   object             \n",
      " 55  author.verified                        7097 non-null   bool               \n",
      " 56  author.withheld.scope                  0 non-null      float64            \n",
      " 57  author.withheld.copyright              0 non-null      float64            \n",
      " 58  author.withheld.country_codes          0 non-null      float64            \n",
      " 59  geo.coordinates.coordinates            58 non-null     object             \n",
      " 60  geo.coordinates.type                   58 non-null     object             \n",
      " 61  geo.country                            7097 non-null   object             \n",
      " 62  geo.country_code                       7097 non-null   object             \n",
      " 63  geo.full_name                          7097 non-null   object             \n",
      " 64  geo.geo.bbox                           7097 non-null   object             \n",
      " 65  geo.geo.type                           7097 non-null   object             \n",
      " 66  geo.id                                 7097 non-null   object             \n",
      " 67  geo.name                               7097 non-null   object             \n",
      " 68  geo.place_id                           7097 non-null   object             \n",
      " 69  geo.place_type                         7097 non-null   object             \n",
      " 70  __twarc.retrieved_at                   7097 non-null   object             \n",
      " 71  __twarc.url                            7097 non-null   object             \n",
      " 72  __twarc.version                        7097 non-null   object             \n",
      " 73  Unnamed: 73                            0 non-null      float64            \n",
      "dtypes: bool(3), datetime64[ns, UTC](1), float64(17), int64(12), object(41)\n",
      "memory usage: 3.9+ MB\n"
     ]
    }
   ],
   "source": [
    "# I always recommend running info() for basic type information.\n",
    "data.info()"
   ]
  },
  {
   "cell_type": "code",
   "execution_count": 193,
   "metadata": {},
   "outputs": [
    {
     "data": {
      "text/html": [
       "<div>\n",
       "<style scoped>\n",
       "    .dataframe tbody tr th:only-of-type {\n",
       "        vertical-align: middle;\n",
       "    }\n",
       "\n",
       "    .dataframe tbody tr th {\n",
       "        vertical-align: top;\n",
       "    }\n",
       "\n",
       "    .dataframe thead th {\n",
       "        text-align: right;\n",
       "    }\n",
       "</style>\n",
       "<table border=\"1\" class=\"dataframe\">\n",
       "  <thead>\n",
       "    <tr style=\"text-align: right;\">\n",
       "      <th></th>\n",
       "      <th>author.public_metrics.followers_count</th>\n",
       "      <th>public_metrics.like_count</th>\n",
       "      <th>public_metrics.retweet_count</th>\n",
       "    </tr>\n",
       "  </thead>\n",
       "  <tbody>\n",
       "    <tr>\n",
       "      <th>count</th>\n",
       "      <td>7097</td>\n",
       "      <td>7097</td>\n",
       "      <td>7097</td>\n",
       "    </tr>\n",
       "    <tr>\n",
       "      <th>mean</th>\n",
       "      <td>2560</td>\n",
       "      <td>6</td>\n",
       "      <td>0</td>\n",
       "    </tr>\n",
       "    <tr>\n",
       "      <th>std</th>\n",
       "      <td>7492</td>\n",
       "      <td>110</td>\n",
       "      <td>6</td>\n",
       "    </tr>\n",
       "    <tr>\n",
       "      <th>min</th>\n",
       "      <td>0</td>\n",
       "      <td>0</td>\n",
       "      <td>0</td>\n",
       "    </tr>\n",
       "    <tr>\n",
       "      <th>25%</th>\n",
       "      <td>384</td>\n",
       "      <td>0</td>\n",
       "      <td>0</td>\n",
       "    </tr>\n",
       "    <tr>\n",
       "      <th>50%</th>\n",
       "      <td>951</td>\n",
       "      <td>1</td>\n",
       "      <td>0</td>\n",
       "    </tr>\n",
       "    <tr>\n",
       "      <th>75%</th>\n",
       "      <td>2381</td>\n",
       "      <td>3</td>\n",
       "      <td>0</td>\n",
       "    </tr>\n",
       "    <tr>\n",
       "      <th>max</th>\n",
       "      <td>236203</td>\n",
       "      <td>8653</td>\n",
       "      <td>298</td>\n",
       "    </tr>\n",
       "  </tbody>\n",
       "</table>\n",
       "</div>"
      ],
      "text/plain": [
       "      author.public_metrics.followers_count public_metrics.like_count  \\\n",
       "count                                  7097                      7097   \n",
       "mean                                   2560                         6   \n",
       "std                                    7492                       110   \n",
       "min                                       0                         0   \n",
       "25%                                     384                         0   \n",
       "50%                                     951                         1   \n",
       "75%                                    2381                         3   \n",
       "max                                  236203                      8653   \n",
       "\n",
       "      public_metrics.retweet_count  \n",
       "count                         7097  \n",
       "mean                             0  \n",
       "std                              6  \n",
       "min                              0  \n",
       "25%                              0  \n",
       "50%                              0  \n",
       "75%                              0  \n",
       "max                            298  "
      ]
     },
     "execution_count": 193,
     "metadata": {},
     "output_type": "execute_result"
    }
   ],
   "source": [
    "# and decribe() for statistical info.\n",
    "# data.describe()\n",
    "# Or to supress scientific notation\n",
    "data[['author.public_metrics.followers_count','public_metrics.like_count','public_metrics.retweet_count']].describe().apply(lambda s: s.apply('{0:.0f}'.format))"
   ]
  },
  {
   "cell_type": "markdown",
   "metadata": {},
   "source": [
    "At this point I am thinking we have too many columns to analyse really. It's worth at this point asking if there is anything we could remove now. Though if we are exploring this may be premature."
   ]
  },
  {
   "cell_type": "markdown",
   "metadata": {},
   "source": [
    "At this point it's probably time to narrow down what we are doing, there is too much interesting information in this dataset.\n",
    "\n",
    "I am going to keep the following:\n",
    "* id - The Tweet ID\n",
    "* created_at - The time the tweet was created\n",
    "* text - the text that makes up a tweet\n",
    "* author.id - the author ID\n",
    "* author.created_at - when the users account was created\n",
    "* author.username - the Twitter users username\n",
    "* author.location - a self-defined location\n",
    "* author.public_metrics.followers_count - Number of followers a user has\n",
    "* geo.full_name - the full name describing a tweets geolocation\n",
    "* public_metrics.like_count - number of likes on this tweet\n",
    "* public_metrics.retweet_count - number of retweets on this tweer."
   ]
  },
  {
   "cell_type": "code",
   "execution_count": 194,
   "metadata": {},
   "outputs": [
    {
     "data": {
      "text/html": [
       "<div>\n",
       "<style scoped>\n",
       "    .dataframe tbody tr th:only-of-type {\n",
       "        vertical-align: middle;\n",
       "    }\n",
       "\n",
       "    .dataframe tbody tr th {\n",
       "        vertical-align: top;\n",
       "    }\n",
       "\n",
       "    .dataframe thead th {\n",
       "        text-align: right;\n",
       "    }\n",
       "</style>\n",
       "<table border=\"1\" class=\"dataframe\">\n",
       "  <thead>\n",
       "    <tr style=\"text-align: right;\">\n",
       "      <th></th>\n",
       "      <th>id</th>\n",
       "      <th>created_at</th>\n",
       "      <th>text</th>\n",
       "      <th>author.id</th>\n",
       "      <th>author.created_at</th>\n",
       "      <th>author.username</th>\n",
       "      <th>author.location</th>\n",
       "      <th>author.public_metrics.followers_count</th>\n",
       "      <th>geo.full_name</th>\n",
       "      <th>public_metrics.like_count</th>\n",
       "      <th>public_metrics.retweet_count</th>\n",
       "    </tr>\n",
       "  </thead>\n",
       "  <tbody>\n",
       "    <tr>\n",
       "      <th>0</th>\n",
       "      <td>1476704208074289156</td>\n",
       "      <td>2021-12-30 23:58:13+00:00</td>\n",
       "      <td>@planet_leesti Many things make me sneeze, som...</td>\n",
       "      <td>181521084</td>\n",
       "      <td>2010-08-22T12:08:39.000Z</td>\n",
       "      <td>Traceyspacey1</td>\n",
       "      <td>NaN</td>\n",
       "      <td>1016</td>\n",
       "      <td>Sutton in Ashfield, England</td>\n",
       "      <td>0</td>\n",
       "      <td>0</td>\n",
       "    </tr>\n",
       "    <tr>\n",
       "      <th>1</th>\n",
       "      <td>1476702886050648077</td>\n",
       "      <td>2021-12-30 23:52:58+00:00</td>\n",
       "      <td>I sneeze a lot in general sometimes for no app...</td>\n",
       "      <td>181521084</td>\n",
       "      <td>2010-08-22T12:08:39.000Z</td>\n",
       "      <td>Traceyspacey1</td>\n",
       "      <td>NaN</td>\n",
       "      <td>1016</td>\n",
       "      <td>Sutton in Ashfield, England</td>\n",
       "      <td>0</td>\n",
       "      <td>0</td>\n",
       "    </tr>\n",
       "    <tr>\n",
       "      <th>2</th>\n",
       "      <td>1476701874116083712</td>\n",
       "      <td>2021-12-30 23:48:57+00:00</td>\n",
       "      <td>@darrenmark69 Is sneezing the difference? Don'...</td>\n",
       "      <td>1352804201101991941</td>\n",
       "      <td>2021-01-23T02:24:13.000Z</td>\n",
       "      <td>darren_buckler</td>\n",
       "      <td>Leicester, England</td>\n",
       "      <td>1420</td>\n",
       "      <td>Stoney Stanton, England</td>\n",
       "      <td>0</td>\n",
       "      <td>0</td>\n",
       "    </tr>\n",
       "    <tr>\n",
       "      <th>3</th>\n",
       "      <td>1476697453919408135</td>\n",
       "      <td>2021-12-30 23:31:23+00:00</td>\n",
       "      <td>@petewall41 A week!!! Ffs. I had the shivers b...</td>\n",
       "      <td>1318834717295300609</td>\n",
       "      <td>2020-10-21T08:41:30.000Z</td>\n",
       "      <td>Webbo2306</td>\n",
       "      <td>NaN</td>\n",
       "      <td>421</td>\n",
       "      <td>Bexley, London</td>\n",
       "      <td>1</td>\n",
       "      <td>0</td>\n",
       "    </tr>\n",
       "    <tr>\n",
       "      <th>4</th>\n",
       "      <td>1476694735628779526</td>\n",
       "      <td>2021-12-30 23:20:35+00:00</td>\n",
       "      <td>@waywardscots Definitely over 40, and had all ...</td>\n",
       "      <td>390000120</td>\n",
       "      <td>2011-10-13T09:34:39.000Z</td>\n",
       "      <td>WrittenInRain</td>\n",
       "      <td>Bristol, UK</td>\n",
       "      <td>753</td>\n",
       "      <td>Bristol, England</td>\n",
       "      <td>2</td>\n",
       "      <td>0</td>\n",
       "    </tr>\n",
       "  </tbody>\n",
       "</table>\n",
       "</div>"
      ],
      "text/plain": [
       "                    id                created_at  \\\n",
       "0  1476704208074289156 2021-12-30 23:58:13+00:00   \n",
       "1  1476702886050648077 2021-12-30 23:52:58+00:00   \n",
       "2  1476701874116083712 2021-12-30 23:48:57+00:00   \n",
       "3  1476697453919408135 2021-12-30 23:31:23+00:00   \n",
       "4  1476694735628779526 2021-12-30 23:20:35+00:00   \n",
       "\n",
       "                                                text            author.id  \\\n",
       "0  @planet_leesti Many things make me sneeze, som...            181521084   \n",
       "1  I sneeze a lot in general sometimes for no app...            181521084   \n",
       "2  @darrenmark69 Is sneezing the difference? Don'...  1352804201101991941   \n",
       "3  @petewall41 A week!!! Ffs. I had the shivers b...  1318834717295300609   \n",
       "4  @waywardscots Definitely over 40, and had all ...            390000120   \n",
       "\n",
       "          author.created_at author.username     author.location  \\\n",
       "0  2010-08-22T12:08:39.000Z   Traceyspacey1                 NaN   \n",
       "1  2010-08-22T12:08:39.000Z   Traceyspacey1                 NaN   \n",
       "2  2021-01-23T02:24:13.000Z  darren_buckler  Leicester, England   \n",
       "3  2020-10-21T08:41:30.000Z       Webbo2306                 NaN   \n",
       "4  2011-10-13T09:34:39.000Z   WrittenInRain         Bristol, UK   \n",
       "\n",
       "   author.public_metrics.followers_count                geo.full_name  \\\n",
       "0                                   1016  Sutton in Ashfield, England   \n",
       "1                                   1016  Sutton in Ashfield, England   \n",
       "2                                   1420      Stoney Stanton, England   \n",
       "3                                    421               Bexley, London   \n",
       "4                                    753             Bristol, England   \n",
       "\n",
       "   public_metrics.like_count  public_metrics.retweet_count  \n",
       "0                          0                             0  \n",
       "1                          0                             0  \n",
       "2                          0                             0  \n",
       "3                          1                             0  \n",
       "4                          2                             0  "
      ]
     },
     "execution_count": 194,
     "metadata": {},
     "output_type": "execute_result"
    }
   ],
   "source": [
    "data = data[['id','created_at', 'text','author.id','author.created_at', 'author.username','author.location','author.public_metrics.followers_count','geo.full_name','public_metrics.like_count','public_metrics.retweet_count']]\n",
    "data.head()"
   ]
  },
  {
   "cell_type": "markdown",
   "metadata": {},
   "source": [
    "# Have covid-19 symptoms grown?\n",
    "Those of us still checking the news will know that in late November we had the Omicron strain develop. I have included a dataset \"covid_data\" which contains new case numbers in the UK from https://ourworldindata.org/explorers/coronavirus-data-explorer\n",
    "\n",
    "Creating a plot as seen below."
   ]
  },
  {
   "cell_type": "code",
   "execution_count": 195,
   "metadata": {},
   "outputs": [],
   "source": [
    "covid = pd.read_csv('covid_data.csv', parse_dates=['date'])\n",
    "covid = covid.set_index('date')"
   ]
  },
  {
   "cell_type": "code",
   "execution_count": 196,
   "metadata": {},
   "outputs": [
    {
     "data": {
      "text/plain": [
       "[Text(0.5, 1.0, 'Number of covid cases over time')]"
      ]
     },
     "execution_count": 196,
     "metadata": {},
     "output_type": "execute_result"
    },
    {
     "data": {
      "image/png": "[encoded data removed]",
      "text/plain": [
       "<Figure size 1728x576 with 1 Axes>"
      ]
     },
     "metadata": {},
     "output_type": "display_data"
    }
   ],
   "source": [
    "sns.lineplot(data=covid).set(title='Number of covid cases over time')"
   ]
  },
  {
   "cell_type": "code",
   "execution_count": 197,
   "metadata": {},
   "outputs": [
    {
     "data": {
      "text/plain": [
       "[Text(0.5, 1.0, 'Number of tweets containing covid symptoms in UK over time')]"
      ]
     },
     "execution_count": 197,
     "metadata": {},
     "output_type": "execute_result"
    },
    {
     "data": {
      "image/png": "[encoded data removed]",
      "text/plain": [
       "<Figure size 1728x576 with 1 Axes>"
      ]
     },
     "metadata": {},
     "output_type": "display_data"
    }
   ],
   "source": [
    "sns.lineplot(data=data['created_at'].groupby(data.created_at.dt.date).count().rolling(10).mean()).set(title='Number of tweets containing covid symptoms in UK over time')"
   ]
  },
  {
   "cell_type": "markdown",
   "metadata": {},
   "source": [
    "My first question is do our tweets reflect this general increase, and hence could we predict these spikes from users self-reporting symptoms.\n",
    "\n",
    "It does appear that there is at the very least a correlation here. Though whether this is particularly down to our users self reporting, or from the media creating a hypochondriac effect, mixed with the self-gratifying nature of social media. This is hard to tell."
   ]
  },
  {
   "cell_type": "markdown",
   "metadata": {},
   "source": [
    "# Symtpoms over time"
   ]
  },
  {
   "cell_type": "markdown",
   "metadata": {},
   "source": [
    "We can go a step further though, we could for example try to break down counts per day for tweets which contain our named symptoms. This could help us seperate out omicron hype from the delta hype. Omicron sufferers generally seem to have more of a sneeze and headache illness than the coughs we previously assocaited with covid-19. We can try to visualize this too."
   ]
  },
  {
   "cell_type": "code",
   "execution_count": 198,
   "metadata": {},
   "outputs": [
    {
     "data": {
      "text/html": [
       "<div>\n",
       "<style scoped>\n",
       "    .dataframe tbody tr th:only-of-type {\n",
       "        vertical-align: middle;\n",
       "    }\n",
       "\n",
       "    .dataframe tbody tr th {\n",
       "        vertical-align: top;\n",
       "    }\n",
       "\n",
       "    .dataframe thead th {\n",
       "        text-align: right;\n",
       "    }\n",
       "</style>\n",
       "<table border=\"1\" class=\"dataframe\">\n",
       "  <thead>\n",
       "    <tr style=\"text-align: right;\">\n",
       "      <th></th>\n",
       "      <th>has_cough</th>\n",
       "      <th>has_sneeze</th>\n",
       "      <th>has_fatigue</th>\n",
       "      <th>has_headache</th>\n",
       "    </tr>\n",
       "  </thead>\n",
       "  <tbody>\n",
       "    <tr>\n",
       "      <th>count</th>\n",
       "      <td>7097</td>\n",
       "      <td>7097</td>\n",
       "      <td>7097</td>\n",
       "      <td>7097</td>\n",
       "    </tr>\n",
       "    <tr>\n",
       "      <th>unique</th>\n",
       "      <td>2</td>\n",
       "      <td>2</td>\n",
       "      <td>2</td>\n",
       "      <td>2</td>\n",
       "    </tr>\n",
       "    <tr>\n",
       "      <th>top</th>\n",
       "      <td>True</td>\n",
       "      <td>False</td>\n",
       "      <td>False</td>\n",
       "      <td>False</td>\n",
       "    </tr>\n",
       "    <tr>\n",
       "      <th>freq</th>\n",
       "      <td>3560</td>\n",
       "      <td>6430</td>\n",
       "      <td>6341</td>\n",
       "      <td>5082</td>\n",
       "    </tr>\n",
       "  </tbody>\n",
       "</table>\n",
       "</div>"
      ],
      "text/plain": [
       "       has_cough has_sneeze has_fatigue has_headache\n",
       "count       7097       7097        7097         7097\n",
       "unique         2          2           2            2\n",
       "top         True      False       False        False\n",
       "freq        3560       6430        6341         5082"
      ]
     },
     "execution_count": 198,
     "metadata": {},
     "output_type": "execute_result"
    }
   ],
   "source": [
    "data['has_cough'] = data.text.str.contains('cough') | data.text.str.contains('coughing')\n",
    "data['has_sneeze'] = data.text.str.contains('sneeze') | data.text.str.contains('sneezing')\n",
    "data['has_fatigue'] = data.text.str.contains('fatigue')\n",
    "data['has_headache'] = data.text.str.contains('headache')\n",
    "\n",
    "# fatigue, sneeze, sneezing, headache\n",
    "data[['has_cough','has_sneeze','has_fatigue','has_headache']].describe()"
   ]
  },
  {
   "cell_type": "code",
   "execution_count": 199,
   "metadata": {},
   "outputs": [
    {
     "name": "stdout",
     "output_type": "stream",
     "text": [
      "Missus tested positive for Covid today, she feels totally fine and the only reason she tested was cos she had a cough. I had my booster yesterday morning and since 4pm yesterday I've felt absolutely dreadful. How absurd is it that she has the virus but feels better than me? 🤦‍♂️\n",
      "\n",
      "\n",
      "@BrandonButch I have had a cough for around 4 weeks- went to take PCR where I live and came back negative.\n",
      "\n",
      "\n",
      "@KristyLKnapp Thanks lovely. Feeling okay. Just a cough, maybe a bit of a fever tonight. Im only 12 hours in.\n",
      "\n",
      "\n"
     ]
    }
   ],
   "source": [
    "for index in [1,2,3]:\n",
    "    print(data[data.has_cough == True].reset_index()['text'][index])\n",
    "    print('\\n')"
   ]
  },
  {
   "cell_type": "code",
   "execution_count": 200,
   "metadata": {},
   "outputs": [
    {
     "name": "stdout",
     "output_type": "stream",
     "text": [
      "I sneeze a lot in general sometimes for no apparent reason.\n",
      "\n",
      "\n",
      "@darrenmark69 Is sneezing the difference? Don't ever remember that being listed as a symptom for coN vid (not that I believe anything they say about it anyway)\n",
      "\n",
      "\n",
      "@vinniephilpott @jtomsett93 big sneeze maybe\n",
      "\n",
      "\n"
     ]
    }
   ],
   "source": [
    "for index in [1,2,3]:\n",
    "    print(data[data.has_sneeze == True].reset_index()['text'][index])\n",
    "    print('\\n')"
   ]
  },
  {
   "cell_type": "code",
   "execution_count": 201,
   "metadata": {},
   "outputs": [
    {
     "name": "stdout",
     "output_type": "stream",
     "text": [
      "@CabbyDes It's been terrible mate. Fever, shaking, fatigue, swelling under armpit, heart pounding. Was quite scary at one point mate. Starting to feel bit better now\n",
      "\n",
      "\n",
      "@ProperCabby I was shaking uncontrollably with fever, feeling cold then hot, heart started pounding at one point, whole body was stiff, fatigue, even struggled to get out the bath earlier. It really was awful mate. Starting to feel a little more normal now, hoping to get out in cab tomorrow\n",
      "\n",
      "\n",
      "Now Brendan Rodgers has jumped on the players welfare/ fatigue bandwagon! Wonder how many games some Celtic players were playing when they won everything under him ! Can’t remember him saying anything then 🤷🏽\n",
      "\n",
      "\n"
     ]
    }
   ],
   "source": [
    "for index in [1,2,3]:\n",
    "    print(data[data.has_fatigue == True].reset_index()['text'][index])\n",
    "    print('\\n')"
   ]
  },
  {
   "cell_type": "code",
   "execution_count": 202,
   "metadata": {},
   "outputs": [
    {
     "name": "stdout",
     "output_type": "stream",
     "text": [
      "@mrmterry I suffered from pressure headaches for ages, got to the point where I waking up with a headache, going to sleep with a headache, got really depressed. Tried an over the counter Sudafed tablet(s) from my chemist, took a day or so but it worked!\n",
      "\n",
      "\n",
      "@mrmterry Pressure headache?\n",
      "\n",
      "\n",
      "Day 3 #COVID19. slept,slept,slept headache gone, aches and pains gone, cough gone...just exhausted. Mrs M the better patient still nausea and exhausted.  over the worst! #Covid #coronavirus\n",
      "\n",
      "\n"
     ]
    }
   ],
   "source": [
    "for index in [1,2,3]:\n",
    "    print(data[data.has_headache == True].reset_index()['text'][index])\n",
    "    print('\\n')"
   ]
  },
  {
   "cell_type": "markdown",
   "metadata": {},
   "source": [
    "# TODO FIGUIRE OUT HOW TO DOA GROUPED BY PLOT OF THIS"
   ]
  },
  {
   "cell_type": "code",
   "execution_count": 246,
   "metadata": {},
   "outputs": [
    {
     "data": {
      "text/plain": [
       "<AxesSubplot:xlabel='created_at'>"
      ]
     },
     "execution_count": 246,
     "metadata": {},
     "output_type": "execute_result"
    },
    {
     "data": {
      "image/png": "[encoded data removed]",
      "text/plain": [
       "<Figure size 1728x576 with 1 Axes>"
      ]
     },
     "metadata": {},
     "output_type": "display_data"
    }
   ],
   "source": [
    "data.groupby(data.created_at.dt.date).has_cough.sum().plot()"
   ]
  },
  {
   "cell_type": "code",
   "execution_count": 203,
   "metadata": {},
   "outputs": [
    {
     "data": {
      "text/html": [
       "<div>\n",
       "<style scoped>\n",
       "    .dataframe tbody tr th:only-of-type {\n",
       "        vertical-align: middle;\n",
       "    }\n",
       "\n",
       "    .dataframe tbody tr th {\n",
       "        vertical-align: top;\n",
       "    }\n",
       "\n",
       "    .dataframe thead th {\n",
       "        text-align: right;\n",
       "    }\n",
       "</style>\n",
       "<table border=\"1\" class=\"dataframe\">\n",
       "  <thead>\n",
       "    <tr style=\"text-align: right;\">\n",
       "      <th></th>\n",
       "      <th>has_cough</th>\n",
       "      <th>created_at</th>\n",
       "    </tr>\n",
       "  </thead>\n",
       "  <tbody>\n",
       "    <tr>\n",
       "      <th>0</th>\n",
       "      <td>False</td>\n",
       "      <td>2021-12-30 23:58:13+00:00</td>\n",
       "    </tr>\n",
       "    <tr>\n",
       "      <th>1</th>\n",
       "      <td>False</td>\n",
       "      <td>2021-12-30 23:52:58+00:00</td>\n",
       "    </tr>\n",
       "    <tr>\n",
       "      <th>2</th>\n",
       "      <td>False</td>\n",
       "      <td>2021-12-30 23:48:57+00:00</td>\n",
       "    </tr>\n",
       "    <tr>\n",
       "      <th>3</th>\n",
       "      <td>False</td>\n",
       "      <td>2021-12-30 23:31:23+00:00</td>\n",
       "    </tr>\n",
       "    <tr>\n",
       "      <th>4</th>\n",
       "      <td>False</td>\n",
       "      <td>2021-12-30 23:20:35+00:00</td>\n",
       "    </tr>\n",
       "  </tbody>\n",
       "</table>\n",
       "</div>"
      ],
      "text/plain": [
       "   has_cough                created_at\n",
       "0      False 2021-12-30 23:58:13+00:00\n",
       "1      False 2021-12-30 23:52:58+00:00\n",
       "2      False 2021-12-30 23:48:57+00:00\n",
       "3      False 2021-12-30 23:31:23+00:00\n",
       "4      False 2021-12-30 23:20:35+00:00"
      ]
     },
     "execution_count": 203,
     "metadata": {},
     "output_type": "execute_result"
    }
   ],
   "source": [
    "data[['has_cough','created_at']].head()"
   ]
  },
  {
   "cell_type": "code",
   "execution_count": 257,
   "metadata": {},
   "outputs": [
    {
     "data": {
      "text/plain": [
       "<AxesSubplot:xlabel='created_at', ylabel='has_cough'>"
      ]
     },
     "execution_count": 257,
     "metadata": {},
     "output_type": "execute_result"
    },
    {
     "data": {
      "image/png": "[encoded data removed]",
      "text/plain": [
       "<Figure size 1728x576 with 1 Axes>"
      ]
     },
     "metadata": {},
     "output_type": "display_data"
    }
   ],
   "source": [
    "sns.lineplot(data = data.groupby(data.created_at.dt.date).has_cough.sum().rolling(10).mean())\n",
    "sns.lineplot(data = data.groupby(data.created_at.dt.date).has_sneeze.sum().rolling(10).mean())\n",
    "sns.lineplot(data = data.groupby(data.created_at.dt.date).has_fatigue.sum().rolling(10).mean())\n",
    "sns.lineplot(data = data.groupby(data.created_at.dt.date).has_headache.sum().rolling(10).mean())"
   ]
  },
  {
   "cell_type": "markdown",
   "metadata": {},
   "source": [
    "# Have we missed a symptom?"
   ]
  },
  {
   "cell_type": "markdown",
   "metadata": {},
   "source": [
    "My next hunch comes from a tweet like these:\n",
    "\"Fever, shaking, fatigue, swelling under armpit, heart pounding. Was quite scary at one point mate. Starting to feel bit better now\"\n",
    "\"slept,slept,slept headache gone, aches and pains gone, cough gone\"\n",
    "\n",
    "Users seem to be reporting symptoms I wasn't looking for like:\n",
    "- sleeping\n",
    "- heart pounding\n",
    "- shaking\n",
    "- swelling\n",
    "\n",
    "To find these, it might be worth looking for words which appear with our terms. To begin lets simply take a word frequency count."
   ]
  },
  {
   "cell_type": "code",
   "execution_count": 205,
   "metadata": {},
   "outputs": [
    {
     "name": "stderr",
     "output_type": "stream",
     "text": [
      "[nltk_data] Downloading package punkt to\n",
      "[nltk_data]     C:\\Users\\Joe\\AppData\\Roaming\\nltk_data...\n",
      "[nltk_data]   Package punkt is already up-to-date!\n"
     ]
    },
    {
     "data": {
      "text/plain": [
       "True"
      ]
     },
     "execution_count": 205,
     "metadata": {},
     "output_type": "execute_result"
    }
   ],
   "source": [
    "# import our NLP library\n",
    "import nltk\n",
    "nltk.download('punkt')"
   ]
  },
  {
   "cell_type": "code",
   "execution_count": 206,
   "metadata": {},
   "outputs": [],
   "source": [
    "# split text by whitespace\n",
    "# drop any empty rows before tokenize\n",
    "# data['text'] = data['text'].dropna()\n",
    "wordlist = data['text'].str.cat(sep=' ')\n",
    "words = nltk.tokenize.word_tokenize(wordlist)\n",
    "word_dist = nltk.FreqDist(words)\n",
    "wordCount = pd.DataFrame(word_dist.most_common(),\n",
    "                    columns=['Word', 'Frequency'])"
   ]
  },
  {
   "cell_type": "code",
   "execution_count": 207,
   "metadata": {},
   "outputs": [
    {
     "data": {
      "text/html": [
       "<div>\n",
       "<style scoped>\n",
       "    .dataframe tbody tr th:only-of-type {\n",
       "        vertical-align: middle;\n",
       "    }\n",
       "\n",
       "    .dataframe tbody tr th {\n",
       "        vertical-align: top;\n",
       "    }\n",
       "\n",
       "    .dataframe thead th {\n",
       "        text-align: right;\n",
       "    }\n",
       "</style>\n",
       "<table border=\"1\" class=\"dataframe\">\n",
       "  <thead>\n",
       "    <tr style=\"text-align: right;\">\n",
       "      <th></th>\n",
       "      <th>Word</th>\n",
       "      <th>Frequency</th>\n",
       "    </tr>\n",
       "  </thead>\n",
       "  <tbody>\n",
       "    <tr>\n",
       "      <th>0</th>\n",
       "      <td>.</td>\n",
       "      <td>8262</td>\n",
       "    </tr>\n",
       "    <tr>\n",
       "      <th>1</th>\n",
       "      <td>@</td>\n",
       "      <td>6636</td>\n",
       "    </tr>\n",
       "    <tr>\n",
       "      <th>2</th>\n",
       "      <td>a</td>\n",
       "      <td>6031</td>\n",
       "    </tr>\n",
       "    <tr>\n",
       "      <th>3</th>\n",
       "      <td>,</td>\n",
       "      <td>6029</td>\n",
       "    </tr>\n",
       "    <tr>\n",
       "      <th>4</th>\n",
       "      <td>I</td>\n",
       "      <td>5768</td>\n",
       "    </tr>\n",
       "    <tr>\n",
       "      <th>5</th>\n",
       "      <td>the</td>\n",
       "      <td>4841</td>\n",
       "    </tr>\n",
       "    <tr>\n",
       "      <th>6</th>\n",
       "      <td>and</td>\n",
       "      <td>4375</td>\n",
       "    </tr>\n",
       "    <tr>\n",
       "      <th>7</th>\n",
       "      <td>to</td>\n",
       "      <td>3937</td>\n",
       "    </tr>\n",
       "    <tr>\n",
       "      <th>8</th>\n",
       "      <td>’</td>\n",
       "      <td>2988</td>\n",
       "    </tr>\n",
       "    <tr>\n",
       "      <th>9</th>\n",
       "      <td>cough</td>\n",
       "      <td>2687</td>\n",
       "    </tr>\n",
       "  </tbody>\n",
       "</table>\n",
       "</div>"
      ],
      "text/plain": [
       "    Word  Frequency\n",
       "0      .       8262\n",
       "1      @       6636\n",
       "2      a       6031\n",
       "3      ,       6029\n",
       "4      I       5768\n",
       "5    the       4841\n",
       "6    and       4375\n",
       "7     to       3937\n",
       "8      ’       2988\n",
       "9  cough       2687"
      ]
     },
     "execution_count": 207,
     "metadata": {},
     "output_type": "execute_result"
    }
   ],
   "source": [
    "wordCount.head(10)"
   ]
  },
  {
   "cell_type": "markdown",
   "metadata": {},
   "source": [
    "Our most common words largely contain punctuation and what are called in NLP \"stop words\", these are words that traditionally add no context to a sentence like I, you, a, the, but etc."
   ]
  },
  {
   "cell_type": "code",
   "execution_count": 208,
   "metadata": {},
   "outputs": [],
   "source": [
    "# split text by whitespace\n",
    "# drop any empty rows before tokenize\n",
    "# data['text'] = data['text'].dropna()\n",
    "wordlist = data['text'].str.cat(sep=' ')\n",
    "words = nltk.tokenize.word_tokenize(wordlist)\n",
    "\n",
    "# remove non alphanumeric characters\n",
    "new_words= [word for word in words if word.isalnum()]\n",
    "\n",
    "word_dist = nltk.FreqDist(new_words)\n",
    "wordCount = pd.DataFrame(word_dist.most_common(),\n",
    "                    columns=['Word', 'Frequency'])"
   ]
  },
  {
   "cell_type": "code",
   "execution_count": 209,
   "metadata": {},
   "outputs": [
    {
     "data": {
      "text/html": [
       "<div>\n",
       "<style scoped>\n",
       "    .dataframe tbody tr th:only-of-type {\n",
       "        vertical-align: middle;\n",
       "    }\n",
       "\n",
       "    .dataframe tbody tr th {\n",
       "        vertical-align: top;\n",
       "    }\n",
       "\n",
       "    .dataframe thead th {\n",
       "        text-align: right;\n",
       "    }\n",
       "</style>\n",
       "<table border=\"1\" class=\"dataframe\">\n",
       "  <thead>\n",
       "    <tr style=\"text-align: right;\">\n",
       "      <th></th>\n",
       "      <th>Word</th>\n",
       "      <th>Frequency</th>\n",
       "    </tr>\n",
       "  </thead>\n",
       "  <tbody>\n",
       "    <tr>\n",
       "      <th>0</th>\n",
       "      <td>a</td>\n",
       "      <td>6031</td>\n",
       "    </tr>\n",
       "    <tr>\n",
       "      <th>1</th>\n",
       "      <td>I</td>\n",
       "      <td>5768</td>\n",
       "    </tr>\n",
       "    <tr>\n",
       "      <th>2</th>\n",
       "      <td>the</td>\n",
       "      <td>4841</td>\n",
       "    </tr>\n",
       "    <tr>\n",
       "      <th>3</th>\n",
       "      <td>and</td>\n",
       "      <td>4375</td>\n",
       "    </tr>\n",
       "    <tr>\n",
       "      <th>4</th>\n",
       "      <td>to</td>\n",
       "      <td>3937</td>\n",
       "    </tr>\n",
       "    <tr>\n",
       "      <th>5</th>\n",
       "      <td>cough</td>\n",
       "      <td>2687</td>\n",
       "    </tr>\n",
       "    <tr>\n",
       "      <th>6</th>\n",
       "      <td>of</td>\n",
       "      <td>2539</td>\n",
       "    </tr>\n",
       "    <tr>\n",
       "      <th>7</th>\n",
       "      <td>it</td>\n",
       "      <td>2180</td>\n",
       "    </tr>\n",
       "    <tr>\n",
       "      <th>8</th>\n",
       "      <td>in</td>\n",
       "      <td>1971</td>\n",
       "    </tr>\n",
       "    <tr>\n",
       "      <th>9</th>\n",
       "      <td>headache</td>\n",
       "      <td>1937</td>\n",
       "    </tr>\n",
       "  </tbody>\n",
       "</table>\n",
       "</div>"
      ],
      "text/plain": [
       "       Word  Frequency\n",
       "0         a       6031\n",
       "1         I       5768\n",
       "2       the       4841\n",
       "3       and       4375\n",
       "4        to       3937\n",
       "5     cough       2687\n",
       "6        of       2539\n",
       "7        it       2180\n",
       "8        in       1971\n",
       "9  headache       1937"
      ]
     },
     "execution_count": 209,
     "metadata": {},
     "output_type": "execute_result"
    }
   ],
   "source": [
    "wordCount.head(10)"
   ]
  },
  {
   "cell_type": "markdown",
   "metadata": {},
   "source": [
    "Punctuation is gone, now let's remove \"stopwords\". NLTK actually has a list of these"
   ]
  },
  {
   "cell_type": "code",
   "execution_count": 210,
   "metadata": {},
   "outputs": [
    {
     "name": "stderr",
     "output_type": "stream",
     "text": [
      "[nltk_data] Downloading package stopwords to\n",
      "[nltk_data]     C:\\Users\\Joe\\AppData\\Roaming\\nltk_data...\n",
      "[nltk_data]   Package stopwords is already up-to-date!\n"
     ]
    },
    {
     "data": {
      "text/plain": [
       "True"
      ]
     },
     "execution_count": 210,
     "metadata": {},
     "output_type": "execute_result"
    }
   ],
   "source": [
    "nltk.download('stopwords')"
   ]
  },
  {
   "cell_type": "code",
   "execution_count": 222,
   "metadata": {},
   "outputs": [
    {
     "name": "stdout",
     "output_type": "stream",
     "text": [
      "['i', 'me', 'my', 'myself', 'we', 'our', 'ours', 'ourselves', 'you', \"you're\", \"you've\", \"you'll\", \"you'd\", 'your', 'yours', 'yourself', 'yourselves', 'he', 'him', 'his', 'himself', 'she', \"she's\", 'her', 'hers', 'herself', 'it', \"it's\", 'its', 'itself', 'they', 'them', 'their', 'theirs', 'themselves', 'what', 'which', 'who', 'whom', 'this', 'that', \"that'll\", 'these', 'those', 'am', 'is', 'are', 'was', 'were', 'be', 'been', 'being', 'have', 'has', 'had', 'having', 'do', 'does', 'did', 'doing', 'a', 'an', 'the', 'and', 'but', 'if', 'or', 'because', 'as', 'until', 'while', 'of', 'at', 'by', 'for', 'with', 'about', 'against', 'between', 'into', 'through', 'during', 'before', 'after', 'above', 'below', 'to', 'from', 'up', 'down', 'in', 'out', 'on', 'off', 'over', 'under', 'again', 'further', 'then', 'once', 'here', 'there', 'when', 'where', 'why', 'how', 'all', 'any', 'both', 'each', 'few', 'more', 'most', 'other', 'some', 'such', 'no', 'nor', 'not', 'only', 'own', 'same', 'so', 'than', 'too', 'very', 's', 't', 'can', 'will', 'just', 'don', \"don't\", 'should', \"should've\", 'now', 'd', 'll', 'm', 'o', 're', 've', 'y', 'ain', 'aren', \"aren't\", 'couldn', \"couldn't\", 'didn', \"didn't\", 'doesn', \"doesn't\", 'hadn', \"hadn't\", 'hasn', \"hasn't\", 'haven', \"haven't\", 'isn', \"isn't\", 'ma', 'mightn', \"mightn't\", 'mustn', \"mustn't\", 'needn', \"needn't\", 'shan', \"shan't\", 'shouldn', \"shouldn't\", 'wasn', \"wasn't\", 'weren', \"weren't\", 'won', \"won't\", 'wouldn', \"wouldn't\"]\n"
     ]
    }
   ],
   "source": [
    "from nltk.corpus import stopwords\n",
    "print(stopwords.words('english'))"
   ]
  },
  {
   "cell_type": "code",
   "execution_count": 235,
   "metadata": {},
   "outputs": [],
   "source": [
    "# split text by whitespace\n",
    "# drop any empty rows before tokenize\n",
    "# data['text'] = data['text'].dropna()\n",
    "wordlist = data['text'].str.cat(sep=' ')\n",
    "words = nltk.tokenize.word_tokenize(wordlist)\n",
    "\n",
    "# remove non alphanumeric characters\n",
    "new_words= [word for word in words if word.isalnum()]\n",
    "\n",
    "# remove stop words\n",
    "from stop_words import get_stop_words\n",
    "stop_words = set(stopwords.words('english'))\n",
    "filtered_new_words = [w for w in new_words if not w.lower() in stop_words]\n",
    "\n",
    "word_dist = nltk.FreqDist(filtered_new_words)\n",
    "wordCount = pd.DataFrame(word_dist.most_common(),\n",
    "                    columns=['Word', 'Frequency'])\n",
    "\n"
   ]
  },
  {
   "cell_type": "code",
   "execution_count": 236,
   "metadata": {},
   "outputs": [
    {
     "data": {
      "text/html": [
       "<div>\n",
       "<style scoped>\n",
       "    .dataframe tbody tr th:only-of-type {\n",
       "        vertical-align: middle;\n",
       "    }\n",
       "\n",
       "    .dataframe tbody tr th {\n",
       "        vertical-align: top;\n",
       "    }\n",
       "\n",
       "    .dataframe thead th {\n",
       "        text-align: right;\n",
       "    }\n",
       "</style>\n",
       "<table border=\"1\" class=\"dataframe\">\n",
       "  <thead>\n",
       "    <tr style=\"text-align: right;\">\n",
       "      <th></th>\n",
       "      <th>Word</th>\n",
       "      <th>Frequency</th>\n",
       "    </tr>\n",
       "  </thead>\n",
       "  <tbody>\n",
       "    <tr>\n",
       "      <th>0</th>\n",
       "      <td>cough</td>\n",
       "      <td>2687</td>\n",
       "    </tr>\n",
       "    <tr>\n",
       "      <th>1</th>\n",
       "      <td>headache</td>\n",
       "      <td>1937</td>\n",
       "    </tr>\n",
       "    <tr>\n",
       "      <th>2</th>\n",
       "      <td>https</td>\n",
       "      <td>1365</td>\n",
       "    </tr>\n",
       "    <tr>\n",
       "      <th>3</th>\n",
       "      <td>coughing</td>\n",
       "      <td>1083</td>\n",
       "    </tr>\n",
       "    <tr>\n",
       "      <th>4</th>\n",
       "      <td>amp</td>\n",
       "      <td>859</td>\n",
       "    </tr>\n",
       "    <tr>\n",
       "      <th>5</th>\n",
       "      <td>like</td>\n",
       "      <td>727</td>\n",
       "    </tr>\n",
       "    <tr>\n",
       "      <th>6</th>\n",
       "      <td>fatigue</td>\n",
       "      <td>721</td>\n",
       "    </tr>\n",
       "    <tr>\n",
       "      <th>7</th>\n",
       "      <td>got</td>\n",
       "      <td>651</td>\n",
       "    </tr>\n",
       "    <tr>\n",
       "      <th>8</th>\n",
       "      <td>cold</td>\n",
       "      <td>576</td>\n",
       "    </tr>\n",
       "    <tr>\n",
       "      <th>9</th>\n",
       "      <td>get</td>\n",
       "      <td>560</td>\n",
       "    </tr>\n",
       "  </tbody>\n",
       "</table>\n",
       "</div>"
      ],
      "text/plain": [
       "       Word  Frequency\n",
       "0     cough       2687\n",
       "1  headache       1937\n",
       "2     https       1365\n",
       "3  coughing       1083\n",
       "4       amp        859\n",
       "5      like        727\n",
       "6   fatigue        721\n",
       "7       got        651\n",
       "8      cold        576\n",
       "9       get        560"
      ]
     },
     "execution_count": 236,
     "metadata": {},
     "output_type": "execute_result"
    }
   ],
   "source": [
    "wordCount.head(10)"
   ]
  },
  {
   "cell_type": "markdown",
   "metadata": {},
   "source": [
    "We don't have all of them here, but we do have a lot of them. I in particular has been skipped because we haven't lowercased all our words when we tokenize them."
   ]
  },
  {
   "cell_type": "code",
   "execution_count": 238,
   "metadata": {},
   "outputs": [],
   "source": [
    "# split text by whitespace\n",
    "# we add in a lower() function\n",
    "wordlist = data['text'].str.lower().str.cat(sep=' ')\n",
    "words = nltk.tokenize.word_tokenize(wordlist)\n",
    "\n",
    "# remove non alphanumeric characters\n",
    "new_words= [word for word in words if word.isalnum()]\n",
    "\n",
    "# remove stop words\n",
    "from stop_words import get_stop_words\n",
    "stop_words = set(stopwords.words('english'))\n",
    "filtered_new_words = [w for w in new_words if not w.lower() in stop_words]\n",
    "\n",
    "word_dist = nltk.FreqDist(filtered_new_words)\n",
    "wordCount = pd.DataFrame(word_dist.most_common(),\n",
    "                    columns=['Word', 'Frequency'])\n",
    "\n"
   ]
  },
  {
   "cell_type": "code",
   "execution_count": 239,
   "metadata": {},
   "outputs": [
    {
     "data": {
      "text/html": [
       "<div>\n",
       "<style scoped>\n",
       "    .dataframe tbody tr th:only-of-type {\n",
       "        vertical-align: middle;\n",
       "    }\n",
       "\n",
       "    .dataframe tbody tr th {\n",
       "        vertical-align: top;\n",
       "    }\n",
       "\n",
       "    .dataframe thead th {\n",
       "        text-align: right;\n",
       "    }\n",
       "</style>\n",
       "<table border=\"1\" class=\"dataframe\">\n",
       "  <thead>\n",
       "    <tr style=\"text-align: right;\">\n",
       "      <th></th>\n",
       "      <th>Word</th>\n",
       "      <th>Frequency</th>\n",
       "    </tr>\n",
       "  </thead>\n",
       "  <tbody>\n",
       "    <tr>\n",
       "      <th>0</th>\n",
       "      <td>cough</td>\n",
       "      <td>2919</td>\n",
       "    </tr>\n",
       "    <tr>\n",
       "      <th>1</th>\n",
       "      <td>headache</td>\n",
       "      <td>2092</td>\n",
       "    </tr>\n",
       "    <tr>\n",
       "      <th>2</th>\n",
       "      <td>https</td>\n",
       "      <td>1365</td>\n",
       "    </tr>\n",
       "    <tr>\n",
       "      <th>3</th>\n",
       "      <td>coughing</td>\n",
       "      <td>1141</td>\n",
       "    </tr>\n",
       "    <tr>\n",
       "      <th>4</th>\n",
       "      <td>amp</td>\n",
       "      <td>859</td>\n",
       "    </tr>\n",
       "    <tr>\n",
       "      <th>5</th>\n",
       "      <td>covid</td>\n",
       "      <td>849</td>\n",
       "    </tr>\n",
       "    <tr>\n",
       "      <th>6</th>\n",
       "      <td>fatigue</td>\n",
       "      <td>789</td>\n",
       "    </tr>\n",
       "    <tr>\n",
       "      <th>7</th>\n",
       "      <td>like</td>\n",
       "      <td>746</td>\n",
       "    </tr>\n",
       "    <tr>\n",
       "      <th>8</th>\n",
       "      <td>got</td>\n",
       "      <td>723</td>\n",
       "    </tr>\n",
       "    <tr>\n",
       "      <th>9</th>\n",
       "      <td>cold</td>\n",
       "      <td>624</td>\n",
       "    </tr>\n",
       "  </tbody>\n",
       "</table>\n",
       "</div>"
      ],
      "text/plain": [
       "       Word  Frequency\n",
       "0     cough       2919\n",
       "1  headache       2092\n",
       "2     https       1365\n",
       "3  coughing       1141\n",
       "4       amp        859\n",
       "5     covid        849\n",
       "6   fatigue        789\n",
       "7      like        746\n",
       "8       got        723\n",
       "9      cold        624"
      ]
     },
     "execution_count": 239,
     "metadata": {},
     "output_type": "execute_result"
    }
   ],
   "source": [
    "wordCount.head(10)"
   ]
  },
  {
   "cell_type": "markdown",
   "metadata": {},
   "source": [
    "finally we are likely underreporting any word here that can be conjugated.\n",
    "Think words like:\n",
    "- swim\n",
    "- swam\n",
    "- swimming\n",
    "\n",
    "all refer to the \"stem\" swim. We will experience this with:\n",
    "- cough\n",
    "- coughed\n",
    "- coughing\n",
    "\n",
    "So it's worth merging these."
   ]
  },
  {
   "cell_type": "code",
   "execution_count": 240,
   "metadata": {},
   "outputs": [],
   "source": [
    "from nltk.stem import PorterStemmer\n",
    "ps = PorterStemmer()"
   ]
  },
  {
   "cell_type": "code",
   "execution_count": 241,
   "metadata": {},
   "outputs": [],
   "source": [
    "# split text by whitespace\n",
    "# we add in a lower() function\n",
    "wordlist = data['text'].str.lower().str.cat(sep=' ')\n",
    "words = nltk.tokenize.word_tokenize(wordlist)\n",
    "\n",
    "# remove non alphanumeric characters\n",
    "new_words= [word for word in words if word.isalnum()]\n",
    "\n",
    "# remove stop words\n",
    "from stop_words import get_stop_words\n",
    "stop_words = set(stopwords.words('english'))\n",
    "filtered_new_words = [w for w in new_words if not w.lower() in stop_words]\n",
    "stems = [ps.stem(word) for word in filtered_new_words if word.isalnum()]\n",
    "\n",
    "word_dist = nltk.FreqDist(stems)\n",
    "wordCount = pd.DataFrame(word_dist.most_common(),\n",
    "                    columns=['Word', 'Frequency'])\n",
    "\n"
   ]
  },
  {
   "cell_type": "code",
   "execution_count": 243,
   "metadata": {},
   "outputs": [
    {
     "data": {
      "text/plain": [
       "'fatigu'"
      ]
     },
     "execution_count": 243,
     "metadata": {},
     "output_type": "execute_result"
    }
   ],
   "source": [
    "ps.stem('fatigued')"
   ]
  },
  {
   "cell_type": "code",
   "execution_count": 242,
   "metadata": {},
   "outputs": [
    {
     "data": {
      "text/html": [
       "<div>\n",
       "<style scoped>\n",
       "    .dataframe tbody tr th:only-of-type {\n",
       "        vertical-align: middle;\n",
       "    }\n",
       "\n",
       "    .dataframe tbody tr th {\n",
       "        vertical-align: top;\n",
       "    }\n",
       "\n",
       "    .dataframe thead th {\n",
       "        text-align: right;\n",
       "    }\n",
       "</style>\n",
       "<table border=\"1\" class=\"dataframe\">\n",
       "  <thead>\n",
       "    <tr style=\"text-align: right;\">\n",
       "      <th></th>\n",
       "      <th>Word</th>\n",
       "      <th>Frequency</th>\n",
       "    </tr>\n",
       "  </thead>\n",
       "  <tbody>\n",
       "    <tr>\n",
       "      <th>0</th>\n",
       "      <td>cough</td>\n",
       "      <td>4096</td>\n",
       "    </tr>\n",
       "    <tr>\n",
       "      <th>1</th>\n",
       "      <td>headach</td>\n",
       "      <td>2158</td>\n",
       "    </tr>\n",
       "    <tr>\n",
       "      <th>2</th>\n",
       "      <td>http</td>\n",
       "      <td>1365</td>\n",
       "    </tr>\n",
       "    <tr>\n",
       "      <th>3</th>\n",
       "      <td>day</td>\n",
       "      <td>1018</td>\n",
       "    </tr>\n",
       "    <tr>\n",
       "      <th>4</th>\n",
       "      <td>feel</td>\n",
       "      <td>879</td>\n",
       "    </tr>\n",
       "    <tr>\n",
       "      <th>5</th>\n",
       "      <td>get</td>\n",
       "      <td>874</td>\n",
       "    </tr>\n",
       "    <tr>\n",
       "      <th>6</th>\n",
       "      <td>amp</td>\n",
       "      <td>859</td>\n",
       "    </tr>\n",
       "    <tr>\n",
       "      <th>7</th>\n",
       "      <td>covid</td>\n",
       "      <td>852</td>\n",
       "    </tr>\n",
       "    <tr>\n",
       "      <th>8</th>\n",
       "      <td>fatigu</td>\n",
       "      <td>801</td>\n",
       "    </tr>\n",
       "    <tr>\n",
       "      <th>9</th>\n",
       "      <td>like</td>\n",
       "      <td>772</td>\n",
       "    </tr>\n",
       "  </tbody>\n",
       "</table>\n",
       "</div>"
      ],
      "text/plain": [
       "      Word  Frequency\n",
       "0    cough       4096\n",
       "1  headach       2158\n",
       "2     http       1365\n",
       "3      day       1018\n",
       "4     feel        879\n",
       "5      get        874\n",
       "6      amp        859\n",
       "7    covid        852\n",
       "8   fatigu        801\n",
       "9     like        772"
      ]
     },
     "execution_count": 242,
     "metadata": {},
     "output_type": "execute_result"
    }
   ],
   "source": [
    "wordCount.head(10)"
   ]
  },
  {
   "cell_type": "code",
   "execution_count": null,
   "metadata": {},
   "outputs": [],
   "source": [
    "to do\n",
    "conjugate stems to something normal\n",
    "capitalize all words\n",
    "remove web terms like https, amp"
   ]
  },
  {
   "cell_type": "markdown",
   "metadata": {},
   "source": [
    "# Sentiment of symptoms over time?"
   ]
  },
  {
   "cell_type": "markdown",
   "metadata": {},
   "source": [
    "## How is Veganism percieved on Twitter?\n",
    "In order to answer this question we need to introduce sentiment analysis. This is quite easy to do in Python as complicated as it sounds. As with many complicated things, somebody has written a package to make this easy for us.\n"
   ]
  },
  {
   "cell_type": "code",
   "execution_count": null,
   "metadata": {},
   "outputs": [],
   "source": [
    "# Import NLTK, the Natural Language package\n",
    "import nltk\n",
    "# Download the popular vader lexicon of words and sentiments.\n",
    "nltk.download([\n",
    "    \"vader_lexicon\",\n",
    "])\n",
    "\n",
    "# import the sentiment analyser.\n",
    "from nltk.sentiment import SentimentIntensityAnalyzer\n",
    "\n",
    "# Create a new sentiment analyser.\n",
    "sia = SentimentIntensityAnalyzer()\n",
    "\n",
    "# And write a function we can pass to our pandas function\n",
    "def get_sentiment(string):\n",
    "    return sia.polarity_scores(string)['compound']"
   ]
  },
  {
   "cell_type": "markdown",
   "metadata": {},
   "source": [
    "With this package our sentiment scores are returned on a scale of -1 for fully negative, to +1 for fully positive.\n",
    "So our below sentence \"I love cats\" has a sentiment of 0.6, we high positive sentiment. Whereas \"I hate cats is lower in sentiment."
   ]
  },
  {
   "cell_type": "code",
   "execution_count": null,
   "metadata": {},
   "outputs": [],
   "source": [
    "# Test our sentiment package\n",
    "get_sentiment('I love cats')"
   ]
  },
  {
   "cell_type": "code",
   "execution_count": null,
   "metadata": {},
   "outputs": [],
   "source": [
    "# Test our sentiment package\n",
    "get_sentiment('I hate cats')"
   ]
  },
  {
   "cell_type": "code",
   "execution_count": null,
   "metadata": {},
   "outputs": [],
   "source": [
    "# Test our sentiment package\n",
    "get_sentiment('I am cats')"
   ]
  },
  {
   "cell_type": "code",
   "execution_count": null,
   "metadata": {},
   "outputs": [],
   "source": [
    "# sentiment by word demo function\n",
    "def sentiment_by_word(string):\n",
    "    for word in string.split(' '):\n",
    "        print(word + ' -- ' + str(get_sentiment(word)))\n",
    "\n",
    "sentiment_by_word('I love cats')"
   ]
  },
  {
   "cell_type": "code",
   "execution_count": null,
   "metadata": {},
   "outputs": [],
   "source": [
    "# So let's apply this to our entire dataframe\n",
    "data['sentiment'] = data['text'].apply(get_sentiment)\n",
    "\n",
    "# print a few rows\n",
    "for index in [0,1,2,3,4]:\n",
    "    print('sentiment ' + str(data['sentiment'][index]))\n",
    "    print(data['text'][index])\n",
    "    print('\\n')"
   ]
  },
  {
   "cell_type": "markdown",
   "metadata": {},
   "source": [
    "### What can we do with our sentiment scores\n",
    "To start with, let's find our highest sentiment tweet.\n"
   ]
  },
  {
   "cell_type": "code",
   "execution_count": null,
   "metadata": {},
   "outputs": [],
   "source": [
    "data.sort_values(by='sentiment', ascending=False).head()"
   ]
  },
  {
   "cell_type": "code",
   "execution_count": null,
   "metadata": {},
   "outputs": [],
   "source": [
    "topSentimentIndex = 156\n",
    "print(data['id'][topSentimentIndex])\n",
    "print(data['text'][topSentimentIndex])\n",
    "print(data['sentiment'][topSentimentIndex])"
   ]
  },
  {
   "cell_type": "code",
   "execution_count": null,
   "metadata": {},
   "outputs": [],
   "source": [
    "sentiment_by_word(data['text'][topSentimentIndex])"
   ]
  },
  {
   "cell_type": "code",
   "execution_count": null,
   "metadata": {},
   "outputs": [],
   "source": [
    "# And how about the lowest sentiment?\n",
    "data.sort_values(by='sentiment', ascending=True).head()"
   ]
  },
  {
   "cell_type": "code",
   "execution_count": null,
   "metadata": {},
   "outputs": [],
   "source": [
    "bottomSentimentIndex = 104\n",
    "print(data['id'][bottomSentimentIndex])\n",
    "print(data['text'][bottomSentimentIndex])\n",
    "print(data['sentiment'][bottomSentimentIndex])"
   ]
  },
  {
   "cell_type": "code",
   "execution_count": null,
   "metadata": {},
   "outputs": [],
   "source": [
    "sentiment_by_word(data['text'][bottomSentimentIndex])"
   ]
  },
  {
   "cell_type": "code",
   "execution_count": null,
   "metadata": {},
   "outputs": [],
   "source": [
    "# Let's also grab some neutral tweets.\n",
    "data[data['sentiment'] == 0]"
   ]
  },
  {
   "cell_type": "code",
   "execution_count": null,
   "metadata": {},
   "outputs": [],
   "source": [
    "neutralIndex = 3\n",
    "print(data['id'][neutralIndex])\n",
    "print(data['text'][neutralIndex])\n",
    "print(data['sentiment'][neutralIndex])"
   ]
  },
  {
   "cell_type": "code",
   "execution_count": null,
   "metadata": {},
   "outputs": [],
   "source": [
    "sentiment_by_word(data['text'][neutralIndex])"
   ]
  },
  {
   "cell_type": "code",
   "execution_count": null,
   "metadata": {},
   "outputs": [],
   "source": [
    "# Often the users at each end of this spectrum are quite different, lets see what our tweeters look like in general\n",
    "data.sentiment.hist()"
   ]
  },
  {
   "cell_type": "markdown",
   "metadata": {},
   "source": [
    "At a glance there are three different kinds of tweets here:\n",
    "1. Negative tweets, these are likely complaints from vegans or complaints about vegans.\n",
    "2. Neutral tweets, Most of the users appear to be neutral, this is usually a symptom that our sentiment analyser wasn't trained on the language it's predicting on, so is seeing words it's never classified before and tags them as neutral.\n",
    "3. Positive tweets, these appear in abundance in comparison to negativity. Could this be a sign of positivity, marketing, bias?\n",
    "\n",
    "On a hunch this grouping is quite naive. I could imagine a big difference in group 1:\n",
    "* People complaining about vegans in a hateful way\n",
    "* Vegans complaining about non-vegans in a hateful way\n",
    "* Vegans complaining about vegan difficulties.\n",
    "\n",
    "group 3 likely contains:\n",
    "* Inflated self-promotion from vegan business owners\n",
    "* Inflated promotion and feedback from large brands launching vegan products such as Greggs and the Vegan sausage roll.\n",
    "\n",
    "These are all much larger project ideas, we don't even have a level of condience that any of these users are vegan."
   ]
  },
  {
   "cell_type": "markdown",
   "metadata": {},
   "source": [
    "### Most liked content\n",
    "We have access to likes and retweets, let's check out what the most liked content is."
   ]
  },
  {
   "cell_type": "code",
   "execution_count": null,
   "metadata": {},
   "outputs": [],
   "source": [
    "# A fairly familiar graph of likes being geometrically hard to gain, with outliers from \"viral\" tweets\n",
    "data['public_metrics.like_count'].hist(bins=100)"
   ]
  },
  {
   "cell_type": "code",
   "execution_count": null,
   "metadata": {},
   "outputs": [],
   "source": [
    "# And we see similar with retweets, even harder to come by as an echo of messaging rather than approval.\n",
    "data['public_metrics.retweet_count'].hist(bins=20)"
   ]
  },
  {
   "cell_type": "code",
   "execution_count": null,
   "metadata": {},
   "outputs": [],
   "source": [
    "# And how about the most liked tweet?\n",
    "data.sort_values(by='public_metrics.like_count', ascending=False).head()"
   ]
  },
  {
   "cell_type": "code",
   "execution_count": null,
   "metadata": {},
   "outputs": [],
   "source": [
    "mostLikedIndex = 1012\n",
    "print(data['id'][mostLikedIndex])\n",
    "print(data['text'][mostLikedIndex])\n",
    "print(data['sentiment'][mostLikedIndex])"
   ]
  },
  {
   "cell_type": "code",
   "execution_count": null,
   "metadata": {},
   "outputs": [],
   "source": [
    "sentiment_by_word(data['text'][mostLikedIndex])"
   ]
  },
  {
   "cell_type": "code",
   "execution_count": null,
   "metadata": {},
   "outputs": [],
   "source": [
    "# And how about the most retweeted?\n",
    "data.sort_values(by='public_metrics.retweet_count', ascending=False).head()"
   ]
  },
  {
   "cell_type": "code",
   "execution_count": null,
   "metadata": {},
   "outputs": [],
   "source": [
    "mostRetweetedIndex = 1012\n",
    "print(data['id'][mostRetweetedIndex])\n",
    "print(data['text'][mostRetweetedIndex])\n",
    "print(data['sentiment'][mostRetweetedIndex])"
   ]
  },
  {
   "cell_type": "markdown",
   "metadata": {},
   "source": [
    "The most liked and most retweeted came from Boy George, there is a correlation there that we will look at later."
   ]
  },
  {
   "cell_type": "markdown",
   "metadata": {},
   "source": [
    "## Does the perception of Veganism change over time?\n",
    "This is a toy example of what we saw in the presentation. How do we percieve a rolling sentiment over time.\n",
    "\n",
    "Next let's sort this dataframe by date. Looking now we seem to have only a handful of minutes between our Tweets."
   ]
  },
  {
   "cell_type": "code",
   "execution_count": null,
   "metadata": {},
   "outputs": [],
   "source": [
    "# sort by date\n",
    "# convert created at into a datetime object\n",
    "data['created_at'] =pd.to_datetime(data.created_at)\n",
    "# Sort our dataframe b dates\n",
    "data = data.sort_values(by='created_at',ascending=True)\n",
    "# reset index\n",
    "data = data.reset_index()\n",
    "del data['index']\n",
    "\n",
    "# print the head\n",
    "data.head()"
   ]
  },
  {
   "cell_type": "code",
   "execution_count": null,
   "metadata": {},
   "outputs": [],
   "source": [
    "# To start with let's plot sentiment over index. Although this is linear, rather than time based it can be useful.\n",
    "data['sentiment'].plot()"
   ]
  },
  {
   "cell_type": "code",
   "execution_count": null,
   "metadata": {},
   "outputs": [],
   "source": [
    "# As each tweet is relatively unconnected we can get quite erratic plots, some smoothin can help.\n",
    "data['sentiment'].rolling(30).mean().plot()"
   ]
  },
  {
   "cell_type": "code",
   "execution_count": null,
   "metadata": {},
   "outputs": [],
   "source": [
    "# positive tweets\n",
    "len(data[data['sentiment'] > 0])"
   ]
  },
  {
   "cell_type": "code",
   "execution_count": null,
   "metadata": {},
   "outputs": [],
   "source": [
    "# neutral tweets\n",
    "len(data[data['sentiment'] == 0])"
   ]
  },
  {
   "cell_type": "code",
   "execution_count": null,
   "metadata": {},
   "outputs": [],
   "source": [
    "# negative tweets\n",
    "len(data[data['sentiment'] < 0])"
   ]
  },
  {
   "cell_type": "markdown",
   "metadata": {},
   "source": [
    "Most of our tweets are vegan, some or neutral, and few are negative.\n",
    "\n",
    "Not much to see here, in the full veganuary dataset we see a kickoff of positively, a trend downward and then a celebration at the end of the month."
   ]
  },
  {
   "cell_type": "code",
   "execution_count": null,
   "metadata": {},
   "outputs": [],
   "source": [
    "# Our neutral tweets, generally introduce some high-sentiment content that our model doesn't understand yet, so maybe we should remove them.\n",
    "data[data.sentiment != 0]['sentiment'].rolling(30).mean().plot()"
   ]
  },
  {
   "cell_type": "code",
   "execution_count": null,
   "metadata": {},
   "outputs": [],
   "source": [
    "# plot with realistic time axis\n",
    "data.plot(kind='scatter',x='created_at', y='sentiment')"
   ]
  },
  {
   "cell_type": "markdown",
   "metadata": {},
   "source": [
    "As we are only looking at such a small sample it's hard to draw any conclusions from this data. Depending on what we follow this can be a very clear line that somewhat represents the sentiment of a topic over time. Diving into our neutral tweets to better classify could be a good next step."
   ]
  },
  {
   "cell_type": "markdown",
   "metadata": {},
   "source": [
    "### Does sentiment correlate with success?\n",
    "Now we have quantified sentiment, do high sentiment messages get engagement?\n",
    "Let's plot our:\n",
    "* follower counts\n",
    "* likes count\n",
    "* retweet count\n",
    "* sentiment \n",
    "\n",
    "And see what we find."
   ]
  },
  {
   "cell_type": "code",
   "execution_count": null,
   "metadata": {},
   "outputs": [],
   "source": [
    "corr = data[['author.public_metrics.followers_count','public_metrics.like_count','public_metrics.retweet_count','sentiment']].corr()\n",
    "corr.style.background_gradient(cmap ='coolwarm')"
   ]
  },
  {
   "cell_type": "markdown",
   "metadata": {},
   "source": [
    "My hunch is that as so many results have neutral sentiment this is probably shifting our correlations quite heavily, let's remove them for now."
   ]
  },
  {
   "cell_type": "code",
   "execution_count": null,
   "metadata": {},
   "outputs": [],
   "source": [
    "corr = data[['author.public_metrics.followers_count','public_metrics.like_count','public_metrics.retweet_count','sentiment']][data['sentiment'] != 0].corr()\n",
    "corr.style.background_gradient(cmap ='coolwarm')"
   ]
  },
  {
   "cell_type": "markdown",
   "metadata": {},
   "source": [
    "It seems that the more followers a user has, the more likely their content is to be liked and retweeted. Follower count does not correlate with the sentiment of tweets though.\n",
    "\n",
    "Likes and retweets have a strong correlation, content that is likely to be retweeted is also likely to be liked.\n",
    "\n",
    "In this case sentiment doesn't seem to correlate with any of these features though."
   ]
  },
  {
   "cell_type": "markdown",
   "metadata": {},
   "source": [
    "By this point, we have noticed that our neutral sentiment tweets are a bit of a missed oppurtunity. We understand sentiment generally, but do not understand the terms within our topic area. The word \"carnivore\" might be usual, but in vegan circles it can be used in disgust or even as an insult, our sentiment analyzer doesn't understand this.\n",
    "\n",
    "A good next step would be trying to figure out what these words are, but I will leave this here for now.\n",
    "\n",
    "## Future Work\n",
    "* Getting a full word count from tweets\n",
    "* Dealing with stop words, punctuation and hashtags\n",
    "* Removing duplicate words through case sensitivity, fuzzy matching and stemming\n",
    "* Making word clouds with [wordclouds.co.uk](https://www.wordclouds.co.uk/)\n",
    "* Classifying types of tweet into marketing, self-promotion and true oppinion.\n",
    "\n",
    "## Useful Links\n",
    "* Word cloud builder - [wordclouds.co.uk](https://www.wordclouds.co.uk/)\n",
    "* An intro to basic NLP and word clouds with WhatsApp data - [What can I do with WhatsApp?](https://towardsdatascience.com/what-can-i-do-with-whatsapp-661fc3cdd5c5)\n",
    "* Use machine learning to understand and leverage text. - [Solving 90% of NLP](https://www.kdnuggets.com/2019/01/solve-90-nlp-problems-step-by-step-guide.html)"
   ]
  }
 ],
 "metadata": {
  "kernelspec": {
   "display_name": "Python 3 (ipykernel)",
   "language": "python",
   "name": "python3"
  },
  "language_info": {
   "codemirror_mode": {
    "name": "ipython",
    "version": 3
   },
   "file_extension": ".py",
   "mimetype": "text/x-python",
   "name": "python",
   "nbconvert_exporter": "python",
   "pygments_lexer": "ipython3",
   "version": "3.9.7"
  }
 },
 "nbformat": 4,
 "nbformat_minor": 4
}
