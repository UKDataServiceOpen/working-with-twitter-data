{
 "cells": [
  {
   "cell_type": "markdown",
   "id": "0bc4e092-d807-4a6d-adc0-2477fe9a8238",
   "metadata": {},
   "source": [
    "### Pre-talk notes for Speaker!\n",
    "* get API keys\n",
    "\n",
    "During talk:\n",
    "* Run Jupyter from Terminal\n",
    "* Log in to UKDS Reddit acount\n",
    "* Open the [Reddit API Dashboard](https://old.reddit.com/prefs/apps/)\n",
    "* Share public link -> https://github.com/UKDataServiceOpen/working-with-twitter-data/blob/main/TwarcDemo.ipynb\n",
    "* Share Binder Link -> TODO\n",
    "* Make Binder -> TODO\n",
    "\n",
    "Talk time - TODO"
   ]
  },
  {
   "cell_type": "code",
   "execution_count": 40,
   "id": "36faa20e-2231-4e0a-9a2d-f8b29333853c",
   "metadata": {},
   "outputs": [],
   "source": [
    "# API KEYS - DELETE AFTER TALK\n",
    "client_id=\"REPLACEME\"\n",
    "client_secret=\"REPLACEME\""
   ]
  },
  {
   "cell_type": "markdown",
   "id": "d3abd9cb-46b4-4d10-bfc5-26cc40b9369f",
   "metadata": {},
   "source": [
    "# Reddit Scraping Demo\n",
    "In this notebook we detail the recommended way to collect large amounts of Reddit data. \n",
    "\n",
    "Previously we recommended Twitter/X as a fantastic source of social media textual data. Sadly, that's no longer the case.\n",
    "\n",
    "The Reddit API is a close approvimation, though markedly more complicated. Where a tweet stands on it's own contextless, most Reddit comments are related to the post title, or previous comments in a thread in some way and carry a more inherent bias in that regard.\n",
    "\n",
    "The good news, the Reddit API is free. We can get roughly 100 comments per request × 60 requests = ~6,000 comments/minute. With clever programming we can theoretically grab all comments from a subreddit.\n",
    "\n",
    "The best package for reddit-scraping is the Python Reddit API Wrapper, or [PRAW](https://praw.readthedocs.io/en/stable/getting_started/installation.html)."
   ]
  },
  {
   "cell_type": "markdown",
   "id": "aadffb51-a8ec-43c2-99f8-00aebba56693",
   "metadata": {},
   "source": [
    "# Installation\n",
    "You will need Python 3 and pip3 availible on your local machine. I recommend doing this by installing [Anaconda](https://docs.anaconda.com/anaconda/install/index.html)\n",
    "\n",
    "We can check these exist by typing the following:\n",
    "```\n",
    "python\n",
    "```\n",
    "which should open a REPL and print out our python version.\n",
    "And:\n",
    "```\n",
    "pip3\n",
    "```\n",
    "which should log out the manual for pip3. If these don't happen you will need to install these [here](https://www.python.org/downloads/) which may take some time.\n",
    "\n",
    "```\n",
    "pip install praw\n",
    "```\n",
    "This finally installs PRAW"
   ]
  },
  {
   "cell_type": "code",
   "execution_count": 41,
   "id": "e3f2787c-00a7-485a-bbe8-9336df93fc5b",
   "metadata": {},
   "outputs": [],
   "source": [
    "# !pip3 install praw\n",
    "# !pip3 install pandas\n",
    "# !pip3 install openpyxl"
   ]
  },
  {
   "cell_type": "code",
   "execution_count": 42,
   "id": "1224ca4f-f87b-4c5f-b026-9eec40740b23",
   "metadata": {},
   "outputs": [
    {
     "name": "stdout",
     "output_type": "stream",
     "text": [
      "7.8.1\n"
     ]
    }
   ],
   "source": [
    "# You will have to install PRAW if you haven't already\n",
    "import praw\n",
    "# This checks is PRAW is installed\n",
    "print(praw.__version__)"
   ]
  },
  {
   "cell_type": "code",
   "execution_count": 43,
   "id": "e847e25b-0106-4195-b85a-f87cbf276690",
   "metadata": {},
   "outputs": [],
   "source": [
    "# Install other helpful packages\n",
    "import pandas as pd\n",
    "import openpyxl\n",
    "from datetime import datetime, timezone"
   ]
  },
  {
   "cell_type": "markdown",
   "id": "67200935-7307-4c8d-bf38-de789f85ec15",
   "metadata": {},
   "source": [
    "# API Keys\n",
    "In order to use this to scrape the Reddit API, you will need a Reddit account and API key:\n",
    "1. Make a Reddit account [here](reddit.com/register).\n",
    "2. Make a Reddit API key [here](reddit.com/prefs/apps).\n",
    "3. Click \"are you a developer? Make an app...\"\n",
    "4. Mark it as a Web app\n",
    "5. Fill in all details with a name, description, and URLs relating to your project.\n",
    "\n",
    "You should see two values:\n",
    "1. Client ID\n",
    "2. Client Secret\n",
    "\n",
    "We won't go into much detail on these, but these two values would give complete access to your reddit account. If you are using a personal account and care about the history of it do not share these EVER. I'd recommend making a new reddit account for research processes."
   ]
  },
  {
   "cell_type": "markdown",
   "id": "553f353d-83c4-43a8-8f05-27458e5c88a2",
   "metadata": {},
   "source": [
    "# Get all comments from a single reddit post"
   ]
  },
  {
   "cell_type": "code",
   "execution_count": 44,
   "id": "ab7ad78f-7fe2-449e-98ad-d43c9ba123fd",
   "metadata": {},
   "outputs": [],
   "source": [
    "# 1. Authenticate (replace with your credentials)\n",
    "reddit = praw.Reddit(\n",
    "    client_id=client_id,\n",
    "    client_secret=client_secret,\n",
    "    user_agent=\"python:testscript:v0.1 (by /u/myusername)\",\n",
    ")"
   ]
  },
  {
   "cell_type": "code",
   "execution_count": 45,
   "id": "7a54a404-014e-473d-ac9f-ad53267fcc44",
   "metadata": {},
   "outputs": [
    {
     "name": "stdout",
     "output_type": "stream",
     "text": [
      "Thanks OP for your submission. This sub is heavily moderated by Auto Mod and your post may be mistakenly removed automatically. Please send a message to the mods or u/JuliusCeaserBoneHead for manual approval. Before you do that, make sure your post does not break any of r/Ghana rules especially rule 4 (No Self Promotion).\n",
      "\n",
      "\n",
      "*I am a bot, and this action was performed automatically. Please [contact the moderators of this subreddit](/message/compose/?to=/r/ghana) if you have any questions or concerns.*\n",
      "Travelling here between June - September means you'll meet pretty mild weather. Pack enough comfortable tshirts and shorts to accommodate for multiple changes a day. Don't stay in Accra throughout your visit. \n",
      "\n",
      "Go to :\n",
      "\n",
      "-Akosombo (see the Volta lake and multiple riverfront villas)\n",
      "-Tamale (Bole national park and Paga crocodile pond if possible in the upper east)\n",
      "-then Kumasi on your way back (Lake Bosomtwe, Kumasi royal museum)\n",
      "\n",
      "The local cuisine isn't bad. Keep an open mind.\n",
      "\n",
      "Not too sure about travel requirements. Best you reach out to the embassy or use a travel company just to be safe\n",
      "If you go to pub/club. Keep count on your drinks. Always make sure you know the price of the drinks you order.\n",
      "\n",
      "Server will always add few extra drinks to your bill to pocket the difference.\n",
      "\n",
      "Always ask for the price first. If you won't, they will always jack up the price.\n",
      "Reading all the comments here got me smiling. I am Ghanaian (currently in the university of Ghana (in Accra) as a graduate student) and I have never been outside the country. Most things you need have been said, so I’ll refrain from talking much about those. I admire and applaud your effort to come here and experience life as it unfolds in a country on a whole new continent. Before you come, recognize that your experience would most likely not be in its entirety, similar to the experiences of others, and I say this on appeal to the account of a few people here, of their experience of the country. I’ve had the opportunity to host a professor from UK through one of my supervisors, and he gave me a positive account of his experience of the country.\n",
      "\n",
      "Food\n",
      "Assuming you have allergies, like you should in many other countries, ask about the ingredients used in any food before you eat it to attenuate the event of your body reacting adversely to food eaten. Ghanaian dishes are very sumptuous- personally, I love fufu. If local dishes are not your thing, we have restaurants serving foreign foods. Whether or not your experience with food here is delightful is also highly dependent on where you get it. As a general guide, you can refer to a considerable amount of word-of-mouth referrals and online reviews of food.\n",
      "\n",
      "Transportation\n",
      "We have ride-hailing services like Uber, Bolt, etc., that you can leverage on as your source of transportation. They provide more privacy. However, we also have the local taxis (also provides privacy) and “trotros” (mini-buses) (less privacy). To travel very long distances, I recommend using larger buses at bus stations. Taxi drivers, to a large extent have discretion on how much they charge. Some may charge you more because your skin colour or accent to them, means you have money.\n",
      "\n",
      "Safety\n",
      "Consider using a tour guide like someone said. Although Ghana is a peaceful country you’ll feel generally safe and less lonely with someone by your side.\n",
      "It’s okay to be reasonably skeptical about the legitimacy of your friendship with the person you met on WhatsApp. \n",
      "\n",
      "Well, it’s a wrap. I’d say more, but I’ll leave it for someone else to continue. Remember, you will only be in Ghana for a short while; an opportunity that many wish their whole lives they’d have. So have fun.\n"
     ]
    }
   ],
   "source": [
    "# 2. Get the submission\n",
    "url = \"https://old.reddit.com/r/ghana/comments/18b74n9/i_would_love_to_visit_ghana_what_should_i_know/\"\n",
    "submission = reddit.submission(url=url)\n",
    "\n",
    "# 3. Load all comments\n",
    "submission.comments.replace_more(limit=None)\n",
    "all_comments = submission.comments.list()\n",
    "\n",
    "# 4. Prepare list of dicts for DataFrame\n",
    "data = []\n",
    "for comment in all_comments:\n",
    "    data.append({\n",
    "        \"author\": str(comment.author),\n",
    "        \"score\": comment.score,\n",
    "        \"created_utc\": datetime.fromtimestamp(comment.created_utc, timezone.utc).replace(tzinfo=None),\n",
    "        \"body\": comment.body.replace(\"\\n\", \" \"),\n",
    "    })\n",
    "\n",
    "# 5. print 5 comments\n",
    "for comment in all_comments[0:4]:\n",
    "    print(comment.body)"
   ]
  },
  {
   "cell_type": "code",
   "execution_count": 46,
   "id": "ddd2c410-f93a-4d90-ac9a-66073523f96e",
   "metadata": {},
   "outputs": [
    {
     "data": {
      "text/html": [
       "<div>\n",
       "<style scoped>\n",
       "    .dataframe tbody tr th:only-of-type {\n",
       "        vertical-align: middle;\n",
       "    }\n",
       "\n",
       "    .dataframe tbody tr th {\n",
       "        vertical-align: top;\n",
       "    }\n",
       "\n",
       "    .dataframe thead th {\n",
       "        text-align: right;\n",
       "    }\n",
       "</style>\n",
       "<table border=\"1\" class=\"dataframe\">\n",
       "  <thead>\n",
       "    <tr style=\"text-align: right;\">\n",
       "      <th></th>\n",
       "      <th>author</th>\n",
       "      <th>score</th>\n",
       "      <th>created_utc</th>\n",
       "      <th>body</th>\n",
       "    </tr>\n",
       "  </thead>\n",
       "  <tbody>\n",
       "    <tr>\n",
       "      <th>0</th>\n",
       "      <td>AutoModerator</td>\n",
       "      <td>1</td>\n",
       "      <td>2023-12-05 08:00:46</td>\n",
       "      <td>Thanks OP for your submission. This sub is hea...</td>\n",
       "    </tr>\n",
       "    <tr>\n",
       "      <th>1</th>\n",
       "      <td>OG_rafiki</td>\n",
       "      <td>20</td>\n",
       "      <td>2023-12-05 08:33:14</td>\n",
       "      <td>Travelling here between June - September means...</td>\n",
       "    </tr>\n",
       "    <tr>\n",
       "      <th>2</th>\n",
       "      <td>steepcurve</td>\n",
       "      <td>11</td>\n",
       "      <td>2023-12-05 08:55:53</td>\n",
       "      <td>If you go to pub/club. Keep count on your drin...</td>\n",
       "    </tr>\n",
       "    <tr>\n",
       "      <th>3</th>\n",
       "      <td>Adorable_Rub_8257</td>\n",
       "      <td>7</td>\n",
       "      <td>2023-12-07 22:46:28</td>\n",
       "      <td>Reading all the comments here got me smiling. ...</td>\n",
       "    </tr>\n",
       "    <tr>\n",
       "      <th>4</th>\n",
       "      <td>MyRockMyRefuge</td>\n",
       "      <td>4</td>\n",
       "      <td>2023-12-05 08:52:48</td>\n",
       "      <td>It’s great to hear you want to visit Ghana. Th...</td>\n",
       "    </tr>\n",
       "  </tbody>\n",
       "</table>\n",
       "</div>"
      ],
      "text/plain": [
       "              author  score         created_utc  \\\n",
       "0      AutoModerator      1 2023-12-05 08:00:46   \n",
       "1          OG_rafiki     20 2023-12-05 08:33:14   \n",
       "2         steepcurve     11 2023-12-05 08:55:53   \n",
       "3  Adorable_Rub_8257      7 2023-12-07 22:46:28   \n",
       "4     MyRockMyRefuge      4 2023-12-05 08:52:48   \n",
       "\n",
       "                                                body  \n",
       "0  Thanks OP for your submission. This sub is hea...  \n",
       "1  Travelling here between June - September means...  \n",
       "2  If you go to pub/club. Keep count on your drin...  \n",
       "3  Reading all the comments here got me smiling. ...  \n",
       "4  It’s great to hear you want to visit Ghana. Th...  "
      ]
     },
     "execution_count": 46,
     "metadata": {},
     "output_type": "execute_result"
    }
   ],
   "source": [
    "# 5. Create DataFrame\n",
    "df = pd.DataFrame(data)\n",
    "\n",
    "df.head()"
   ]
  },
  {
   "cell_type": "code",
   "execution_count": 47,
   "id": "5694de38-3ded-4462-96cd-1c8d7380705a",
   "metadata": {},
   "outputs": [
    {
     "name": "stdout",
     "output_type": "stream",
     "text": [
      "Saved 42 comments to reddit_comments.csv\n"
     ]
    }
   ],
   "source": [
    "# 6. Save to CSV\n",
    "df.to_csv(\"data/single_post_reddit_comments.csv\", index=False, encoding=\"utf-8\")\n",
    "\n",
    "print(f\"Saved {len(df)} comments to reddit_comments.csv\")"
   ]
  },
  {
   "cell_type": "code",
   "execution_count": 48,
   "id": "24db158c-cdb6-4dc7-852a-1941085d2eee",
   "metadata": {},
   "outputs": [
    {
     "name": "stdout",
     "output_type": "stream",
     "text": [
      "Saved 42 comments to reddit_comments.xlsx\n"
     ]
    }
   ],
   "source": [
    "#7. Or save to Excel Spreadsheet\n",
    "df.to_excel(\"data/single_post_reddit_comments.xlsx\", index=False, engine='openpyxl')\n",
    "\n",
    "print(f\"Saved {len(df)} comments to reddit_comments.xlsx\")"
   ]
  },
  {
   "cell_type": "markdown",
   "id": "adb03be3-aaff-4647-b8bd-0f8e70499714",
   "metadata": {},
   "source": [
    "# Get all comments, from multiple reddit posts"
   ]
  },
  {
   "cell_type": "code",
   "execution_count": 49,
   "id": "2a8d8209-d345-4753-af29-edf568d8c28f",
   "metadata": {},
   "outputs": [
    {
     "name": "stdout",
     "output_type": "stream",
     "text": [
      "[18b74n9] I would love to visit Ghana. What should I know? - AutoModerator: Thanks OP for your submission. This sub is heavily moderated by Auto Mod and your post may be mistakenly removed automatically. Please send a message to the mods or u/JuliusCeaserBoneHead for manual approval. Before you do that, make sure your post does not break any of r/Ghana rules especially rule 4 (No Self Promotion).   *I am a bot, and this action was performed automatically. Please [contact the moderators of this subreddit](/message/compose/?to=/r/ghana) if you have any questions or concerns.*\n",
      "[18b74n9] I would love to visit Ghana. What should I know? - OG_rafiki: Travelling here between June - September means you'll meet pretty mild weather. Pack enough comfortable tshirts and shorts to accommodate for multiple changes a day. Don't stay in Accra throughout your visit.   Go to :  -Akosombo (see the Volta lake and multiple riverfront villas) -Tamale (Bole national park and Paga crocodile pond if possible in the upper east) -then Kumasi on your way back (Lake Bosomtwe, Kumasi royal museum)  The local cuisine isn't bad. Keep an open mind.  Not too sure about travel requirements. Best you reach out to the embassy or use a travel company just to be safe\n",
      "[18b74n9] I would love to visit Ghana. What should I know? - steepcurve: If you go to pub/club. Keep count on your drinks. Always make sure you know the price of the drinks you order.  Server will always add few extra drinks to your bill to pocket the difference.  Always ask for the price first. If you won't, they will always jack up the price.\n",
      "[18b74n9] I would love to visit Ghana. What should I know? - Adorable_Rub_8257: Reading all the comments here got me smiling. I am Ghanaian (currently in the university of Ghana (in Accra) as a graduate student) and I have never been outside the country. Most things you need have been said, so I’ll refrain from talking much about those. I admire and applaud your effort to come here and experience life as it unfolds in a country on a whole new continent. Before you come, recognize that your experience would most likely not be in its entirety, similar to the experiences of others, and I say this on appeal to the account of a few people here, of their experience of the country. I’ve had the opportunity to host a professor from UK through one of my supervisors, and he gave me a positive account of his experience of the country.  Food Assuming you have allergies, like you should in many other countries, ask about the ingredients used in any food before you eat it to attenuate the event of your body reacting adversely to food eaten. Ghanaian dishes are very sumptuous- personally, I love fufu. If local dishes are not your thing, we have restaurants serving foreign foods. Whether or not your experience with food here is delightful is also highly dependent on where you get it. As a general guide, you can refer to a considerable amount of word-of-mouth referrals and online reviews of food.  Transportation We have ride-hailing services like Uber, Bolt, etc., that you can leverage on as your source of transportation. They provide more privacy. However, we also have the local taxis (also provides privacy) and “trotros” (mini-buses) (less privacy). To travel very long distances, I recommend using larger buses at bus stations. Taxi drivers, to a large extent have discretion on how much they charge. Some may charge you more because your skin colour or accent to them, means you have money.  Safety Consider using a tour guide like someone said. Although Ghana is a peaceful country you’ll feel generally safe and less lonely with someone by your side. It’s okay to be reasonably skeptical about the legitimacy of your friendship with the person you met on WhatsApp.   Well, it’s a wrap. I’d say more, but I’ll leave it for someone else to continue. Remember, you will only be in Ghana for a short while; an opportunity that many wish their whole lives they’d have. So have fun.\n"
     ]
    }
   ],
   "source": [
    "# List of URLs\n",
    "urls = [\n",
    "    \"https://old.reddit.com/r/ghana/comments/18b74n9/i_would_love_to_visit_ghana_what_should_i_know/\",\n",
    "    \"https://old.reddit.com/r/geography/comments/1bpw6wx/tell_me_something_interesting_about_ghana/\",\n",
    "    \"https://old.reddit.com/r/travel/comments/sq9gv6/ghana_is_a_gorgeous_safe_and_diverse_country/\",\n",
    "]\n",
    "\n",
    "# Prepare list to hold all comment data\n",
    "data = []\n",
    "\n",
    "for url in urls:\n",
    "    submission = reddit.submission(url=url)\n",
    "    submission.comments.replace_more(limit=None)\n",
    "    all_comments = submission.comments.list()\n",
    "\n",
    "    for comment in all_comments:\n",
    "        data.append({\n",
    "            \"url\": url,\n",
    "            \"post_id\": submission.id,\n",
    "            \"post_title\": submission.title,\n",
    "            \"author\": str(comment.author),\n",
    "            \"score\": comment.score,\n",
    "            \"created_utc\": datetime.fromtimestamp(comment.created_utc, timezone.utc).replace(tzinfo=None),\n",
    "            \"body\": comment.body.replace(\"\\n\", \" \"),\n",
    "        })\n",
    "\n",
    "# Print all collected comments\n",
    "for comment in data[0:4]:\n",
    "    print(f\"[{comment['post_id']}] {comment['post_title']} - {comment['author']}: {comment['body']}\")\n"
   ]
  },
  {
   "cell_type": "code",
   "execution_count": 50,
   "id": "215b0eac-6e34-4a0c-baa1-ea7c50770ce7",
   "metadata": {},
   "outputs": [
    {
     "data": {
      "text/html": [
       "<div>\n",
       "<style scoped>\n",
       "    .dataframe tbody tr th:only-of-type {\n",
       "        vertical-align: middle;\n",
       "    }\n",
       "\n",
       "    .dataframe tbody tr th {\n",
       "        vertical-align: top;\n",
       "    }\n",
       "\n",
       "    .dataframe thead th {\n",
       "        text-align: right;\n",
       "    }\n",
       "</style>\n",
       "<table border=\"1\" class=\"dataframe\">\n",
       "  <thead>\n",
       "    <tr style=\"text-align: right;\">\n",
       "      <th></th>\n",
       "      <th>url</th>\n",
       "      <th>post_id</th>\n",
       "      <th>post_title</th>\n",
       "      <th>author</th>\n",
       "      <th>score</th>\n",
       "      <th>created_utc</th>\n",
       "      <th>body</th>\n",
       "    </tr>\n",
       "  </thead>\n",
       "  <tbody>\n",
       "    <tr>\n",
       "      <th>0</th>\n",
       "      <td>https://old.reddit.com/r/ghana/comments/18b74n...</td>\n",
       "      <td>18b74n9</td>\n",
       "      <td>I would love to visit Ghana. What should I know?</td>\n",
       "      <td>AutoModerator</td>\n",
       "      <td>1</td>\n",
       "      <td>2023-12-05 08:00:46</td>\n",
       "      <td>Thanks OP for your submission. This sub is hea...</td>\n",
       "    </tr>\n",
       "    <tr>\n",
       "      <th>1</th>\n",
       "      <td>https://old.reddit.com/r/ghana/comments/18b74n...</td>\n",
       "      <td>18b74n9</td>\n",
       "      <td>I would love to visit Ghana. What should I know?</td>\n",
       "      <td>OG_rafiki</td>\n",
       "      <td>21</td>\n",
       "      <td>2023-12-05 08:33:14</td>\n",
       "      <td>Travelling here between June - September means...</td>\n",
       "    </tr>\n",
       "    <tr>\n",
       "      <th>2</th>\n",
       "      <td>https://old.reddit.com/r/ghana/comments/18b74n...</td>\n",
       "      <td>18b74n9</td>\n",
       "      <td>I would love to visit Ghana. What should I know?</td>\n",
       "      <td>steepcurve</td>\n",
       "      <td>10</td>\n",
       "      <td>2023-12-05 08:55:53</td>\n",
       "      <td>If you go to pub/club. Keep count on your drin...</td>\n",
       "    </tr>\n",
       "    <tr>\n",
       "      <th>3</th>\n",
       "      <td>https://old.reddit.com/r/ghana/comments/18b74n...</td>\n",
       "      <td>18b74n9</td>\n",
       "      <td>I would love to visit Ghana. What should I know?</td>\n",
       "      <td>Adorable_Rub_8257</td>\n",
       "      <td>8</td>\n",
       "      <td>2023-12-07 22:46:28</td>\n",
       "      <td>Reading all the comments here got me smiling. ...</td>\n",
       "    </tr>\n",
       "    <tr>\n",
       "      <th>4</th>\n",
       "      <td>https://old.reddit.com/r/ghana/comments/18b74n...</td>\n",
       "      <td>18b74n9</td>\n",
       "      <td>I would love to visit Ghana. What should I know?</td>\n",
       "      <td>MyRockMyRefuge</td>\n",
       "      <td>3</td>\n",
       "      <td>2023-12-05 08:52:48</td>\n",
       "      <td>It’s great to hear you want to visit Ghana. Th...</td>\n",
       "    </tr>\n",
       "  </tbody>\n",
       "</table>\n",
       "</div>"
      ],
      "text/plain": [
       "                                                 url  post_id  \\\n",
       "0  https://old.reddit.com/r/ghana/comments/18b74n...  18b74n9   \n",
       "1  https://old.reddit.com/r/ghana/comments/18b74n...  18b74n9   \n",
       "2  https://old.reddit.com/r/ghana/comments/18b74n...  18b74n9   \n",
       "3  https://old.reddit.com/r/ghana/comments/18b74n...  18b74n9   \n",
       "4  https://old.reddit.com/r/ghana/comments/18b74n...  18b74n9   \n",
       "\n",
       "                                         post_title             author  score  \\\n",
       "0  I would love to visit Ghana. What should I know?      AutoModerator      1   \n",
       "1  I would love to visit Ghana. What should I know?          OG_rafiki     21   \n",
       "2  I would love to visit Ghana. What should I know?         steepcurve     10   \n",
       "3  I would love to visit Ghana. What should I know?  Adorable_Rub_8257      8   \n",
       "4  I would love to visit Ghana. What should I know?     MyRockMyRefuge      3   \n",
       "\n",
       "          created_utc                                               body  \n",
       "0 2023-12-05 08:00:46  Thanks OP for your submission. This sub is hea...  \n",
       "1 2023-12-05 08:33:14  Travelling here between June - September means...  \n",
       "2 2023-12-05 08:55:53  If you go to pub/club. Keep count on your drin...  \n",
       "3 2023-12-07 22:46:28  Reading all the comments here got me smiling. ...  \n",
       "4 2023-12-05 08:52:48  It’s great to hear you want to visit Ghana. Th...  "
      ]
     },
     "execution_count": 50,
     "metadata": {},
     "output_type": "execute_result"
    }
   ],
   "source": [
    "# 5. Create DataFrame\n",
    "df = pd.DataFrame(data)\n",
    "\n",
    "df.head()"
   ]
  },
  {
   "cell_type": "code",
   "execution_count": 51,
   "id": "b3f75bd1-e5b2-4ab0-83bc-16e7ea76076e",
   "metadata": {},
   "outputs": [
    {
     "name": "stdout",
     "output_type": "stream",
     "text": [
      "Saved 797 comments to reddit_comments.csv\n"
     ]
    }
   ],
   "source": [
    "# 6. Save to CSV\n",
    "df.to_csv(\"data/multi_post_reddit_comments.csv\", index=False, encoding=\"utf-8\")\n",
    "\n",
    "print(f\"Saved {len(df)} comments to reddit_comments.csv\")"
   ]
  },
  {
   "cell_type": "code",
   "execution_count": 52,
   "id": "6c2e0237-3c10-4f54-927e-f554590cfb65",
   "metadata": {},
   "outputs": [
    {
     "name": "stdout",
     "output_type": "stream",
     "text": [
      "Saved 797 comments to reddit_comments.xlsx\n"
     ]
    }
   ],
   "source": [
    "#7. Or save to Excel Spreadsheet\n",
    "df.to_excel(\"data/multi_post_reddit_comments.xlsx\", index=False, engine='openpyxl')\n",
    "\n",
    "print(f\"Saved {len(df)} comments to reddit_comments.xlsx\")"
   ]
  },
  {
   "cell_type": "markdown",
   "id": "85586afd-fa4d-497c-b18f-5c7d1ea7d99e",
   "metadata": {},
   "source": [
    "# Get all comments, from an entire subreddit"
   ]
  },
  {
   "cell_type": "code",
   "execution_count": 53,
   "id": "a3eb4533-5f3c-4570-87f4-4181bf1206a9",
   "metadata": {},
   "outputs": [
    {
     "name": "stdout",
     "output_type": "stream",
     "text": [
      "[1g2mnuu] Bolt Driver - AutoModerator: Introducing the !medaase app. If someone's comment/post helps you, use !medaase as a reply to them to add a reputation to their profile. Users with the highest reputations will have their comments and posts auto approved and rise to the top of comments. Users can also use their reputation as a flair. Hello /u/ONDickson_, Did your post get removed? please read the subreddit rules. /r/ghana/about/rules/. Please send a message to r/ghana or u/JuliusCeaserBoneHead for manual approval.   *I am a bot, and this action was performed automatically. Please [contact the moderators of this subreddit](/message/compose/?to=/r/ghana) if you have any questions or concerns.*\n",
      "[1g2mnuu] Bolt Driver - Kenshia09: Such act of kindness. This gives me hope in humanity 🥹\n",
      "[1g2mnuu] Bolt Driver - ONDickson_: [Bolt Response](https://imgur.com/gallery/bolt-response-1gTLOvn)\n",
      "[1g2mnuu] Bolt Driver - sbirdhall: Thou shall not steal. But you or your friend need to be more careful with money transfers, take your time.\n"
     ]
    }
   ],
   "source": [
    "subreddit_name = \"ghana\"  # change to any subreddit you want\n",
    "\n",
    "# Get top 100 posts from the last year\n",
    "subreddit = reddit.subreddit(subreddit_name)\n",
    "submissions = subreddit.top(time_filter=\"year\", limit=100)\n",
    "\n",
    "data = []\n",
    "\n",
    "for submission in submissions:\n",
    "    submission.comments.replace_more(limit=None)\n",
    "    all_comments = submission.comments.list()\n",
    "\n",
    "    for comment in all_comments:\n",
    "        data.append({\n",
    "            \"url\": f\"https://old.reddit.com{submission.permalink}\",\n",
    "            \"post_id\": submission.id,\n",
    "            \"post_title\": submission.title,\n",
    "            \"author\": str(comment.author),\n",
    "            \"score\": comment.score,\n",
    "            \"created_utc\": datetime.fromtimestamp(comment.created_utc, timezone.utc).replace(tzinfo=None),\n",
    "            \"body\": comment.body.replace(\"\\n\", \" \"),\n",
    "        })\n",
    "\n",
    "# Print 5 comments\n",
    "for comment in data[0:4]:\n",
    "    print(f\"[{comment['post_id']}] {comment['post_title']} - {comment['author']}: {comment['body']}\")\n"
   ]
  },
  {
   "cell_type": "code",
   "execution_count": 54,
   "id": "c255d8f5-0ef7-446f-b954-bf150b59b9c3",
   "metadata": {},
   "outputs": [
    {
     "data": {
      "text/html": [
       "<div>\n",
       "<style scoped>\n",
       "    .dataframe tbody tr th:only-of-type {\n",
       "        vertical-align: middle;\n",
       "    }\n",
       "\n",
       "    .dataframe tbody tr th {\n",
       "        vertical-align: top;\n",
       "    }\n",
       "\n",
       "    .dataframe thead th {\n",
       "        text-align: right;\n",
       "    }\n",
       "</style>\n",
       "<table border=\"1\" class=\"dataframe\">\n",
       "  <thead>\n",
       "    <tr style=\"text-align: right;\">\n",
       "      <th></th>\n",
       "      <th>url</th>\n",
       "      <th>post_id</th>\n",
       "      <th>post_title</th>\n",
       "      <th>author</th>\n",
       "      <th>score</th>\n",
       "      <th>created_utc</th>\n",
       "      <th>body</th>\n",
       "    </tr>\n",
       "  </thead>\n",
       "  <tbody>\n",
       "    <tr>\n",
       "      <th>0</th>\n",
       "      <td>https://old.reddit.com/r/ghana/comments/1g2mnu...</td>\n",
       "      <td>1g2mnuu</td>\n",
       "      <td>Bolt Driver</td>\n",
       "      <td>AutoModerator</td>\n",
       "      <td>1</td>\n",
       "      <td>2024-10-13 10:25:50</td>\n",
       "      <td>Introducing the !medaase app. If someone's com...</td>\n",
       "    </tr>\n",
       "    <tr>\n",
       "      <th>1</th>\n",
       "      <td>https://old.reddit.com/r/ghana/comments/1g2mnu...</td>\n",
       "      <td>1g2mnuu</td>\n",
       "      <td>Bolt Driver</td>\n",
       "      <td>Kenshia09</td>\n",
       "      <td>74</td>\n",
       "      <td>2024-10-13 11:15:13</td>\n",
       "      <td>Such act of kindness. This gives me hope in hu...</td>\n",
       "    </tr>\n",
       "    <tr>\n",
       "      <th>2</th>\n",
       "      <td>https://old.reddit.com/r/ghana/comments/1g2mnu...</td>\n",
       "      <td>1g2mnuu</td>\n",
       "      <td>Bolt Driver</td>\n",
       "      <td>ONDickson_</td>\n",
       "      <td>25</td>\n",
       "      <td>2024-10-13 10:26:26</td>\n",
       "      <td>[Bolt Response](https://imgur.com/gallery/bolt...</td>\n",
       "    </tr>\n",
       "    <tr>\n",
       "      <th>3</th>\n",
       "      <td>https://old.reddit.com/r/ghana/comments/1g2mnu...</td>\n",
       "      <td>1g2mnuu</td>\n",
       "      <td>Bolt Driver</td>\n",
       "      <td>sbirdhall</td>\n",
       "      <td>21</td>\n",
       "      <td>2024-10-13 15:48:26</td>\n",
       "      <td>Thou shall not steal. But you or your friend n...</td>\n",
       "    </tr>\n",
       "    <tr>\n",
       "      <th>4</th>\n",
       "      <td>https://old.reddit.com/r/ghana/comments/1g2mnu...</td>\n",
       "      <td>1g2mnuu</td>\n",
       "      <td>Bolt Driver</td>\n",
       "      <td>kweikuz</td>\n",
       "      <td>11</td>\n",
       "      <td>2024-10-13 13:17:50</td>\n",
       "      <td>we do exist</td>\n",
       "    </tr>\n",
       "  </tbody>\n",
       "</table>\n",
       "</div>"
      ],
      "text/plain": [
       "                                                 url  post_id   post_title  \\\n",
       "0  https://old.reddit.com/r/ghana/comments/1g2mnu...  1g2mnuu  Bolt Driver   \n",
       "1  https://old.reddit.com/r/ghana/comments/1g2mnu...  1g2mnuu  Bolt Driver   \n",
       "2  https://old.reddit.com/r/ghana/comments/1g2mnu...  1g2mnuu  Bolt Driver   \n",
       "3  https://old.reddit.com/r/ghana/comments/1g2mnu...  1g2mnuu  Bolt Driver   \n",
       "4  https://old.reddit.com/r/ghana/comments/1g2mnu...  1g2mnuu  Bolt Driver   \n",
       "\n",
       "          author  score         created_utc  \\\n",
       "0  AutoModerator      1 2024-10-13 10:25:50   \n",
       "1      Kenshia09     74 2024-10-13 11:15:13   \n",
       "2     ONDickson_     25 2024-10-13 10:26:26   \n",
       "3      sbirdhall     21 2024-10-13 15:48:26   \n",
       "4        kweikuz     11 2024-10-13 13:17:50   \n",
       "\n",
       "                                                body  \n",
       "0  Introducing the !medaase app. If someone's com...  \n",
       "1  Such act of kindness. This gives me hope in hu...  \n",
       "2  [Bolt Response](https://imgur.com/gallery/bolt...  \n",
       "3  Thou shall not steal. But you or your friend n...  \n",
       "4                                        we do exist  "
      ]
     },
     "execution_count": 54,
     "metadata": {},
     "output_type": "execute_result"
    }
   ],
   "source": [
    "# 5. Create DataFrame\n",
    "df = pd.DataFrame(data)\n",
    "\n",
    "# print first 5 rows, formatted\n",
    "df.head()"
   ]
  },
  {
   "cell_type": "code",
   "execution_count": 55,
   "id": "5c9a65eb-5894-4643-80c3-bbbeb5a371dc",
   "metadata": {},
   "outputs": [
    {
     "data": {
      "text/html": [
       "<div>\n",
       "<style scoped>\n",
       "    .dataframe tbody tr th:only-of-type {\n",
       "        vertical-align: middle;\n",
       "    }\n",
       "\n",
       "    .dataframe tbody tr th {\n",
       "        vertical-align: top;\n",
       "    }\n",
       "\n",
       "    .dataframe thead th {\n",
       "        text-align: right;\n",
       "    }\n",
       "</style>\n",
       "<table border=\"1\" class=\"dataframe\">\n",
       "  <thead>\n",
       "    <tr style=\"text-align: right;\">\n",
       "      <th></th>\n",
       "      <th>score</th>\n",
       "      <th>created_utc</th>\n",
       "    </tr>\n",
       "  </thead>\n",
       "  <tbody>\n",
       "    <tr>\n",
       "      <th>count</th>\n",
       "      <td>8169.000000</td>\n",
       "      <td>8169</td>\n",
       "    </tr>\n",
       "    <tr>\n",
       "      <th>mean</th>\n",
       "      <td>4.378382</td>\n",
       "      <td>2024-09-29 06:37:57.768637696</td>\n",
       "    </tr>\n",
       "    <tr>\n",
       "      <th>min</th>\n",
       "      <td>-54.000000</td>\n",
       "      <td>2024-04-24 13:15:37</td>\n",
       "    </tr>\n",
       "    <tr>\n",
       "      <th>25%</th>\n",
       "      <td>1.000000</td>\n",
       "      <td>2024-08-17 12:07:00</td>\n",
       "    </tr>\n",
       "    <tr>\n",
       "      <th>50%</th>\n",
       "      <td>2.000000</td>\n",
       "      <td>2024-09-25 13:54:54</td>\n",
       "    </tr>\n",
       "    <tr>\n",
       "      <th>75%</th>\n",
       "      <td>4.000000</td>\n",
       "      <td>2024-12-04 15:10:58</td>\n",
       "    </tr>\n",
       "    <tr>\n",
       "      <th>max</th>\n",
       "      <td>165.000000</td>\n",
       "      <td>2025-07-26 02:29:55</td>\n",
       "    </tr>\n",
       "    <tr>\n",
       "      <th>std</th>\n",
       "      <td>10.306680</td>\n",
       "      <td>NaN</td>\n",
       "    </tr>\n",
       "  </tbody>\n",
       "</table>\n",
       "</div>"
      ],
      "text/plain": [
       "             score                    created_utc\n",
       "count  8169.000000                           8169\n",
       "mean      4.378382  2024-09-29 06:37:57.768637696\n",
       "min     -54.000000            2024-04-24 13:15:37\n",
       "25%       1.000000            2024-08-17 12:07:00\n",
       "50%       2.000000            2024-09-25 13:54:54\n",
       "75%       4.000000            2024-12-04 15:10:58\n",
       "max     165.000000            2025-07-26 02:29:55\n",
       "std      10.306680                            NaN"
      ]
     },
     "execution_count": 55,
     "metadata": {},
     "output_type": "execute_result"
    }
   ],
   "source": [
    "# Print some basic information\n",
    "df.describe()"
   ]
  },
  {
   "cell_type": "code",
   "execution_count": 56,
   "id": "254c9a82-b4f7-419a-a9e3-f861582fe7bf",
   "metadata": {},
   "outputs": [
    {
     "name": "stdout",
     "output_type": "stream",
     "text": [
      "Saved 8169 comments to reddit_comments.csv\n"
     ]
    }
   ],
   "source": [
    "# 6. Save to CSV\n",
    "df.to_csv(\"data/ghana_subreddit_comments.csv\", index=False, encoding=\"utf-8\")\n",
    "\n",
    "print(f\"Saved {len(df)} comments to reddit_comments.csv\")"
   ]
  },
  {
   "cell_type": "code",
   "execution_count": 57,
   "id": "37f9981d-1901-4344-b838-d211900dfdd2",
   "metadata": {},
   "outputs": [
    {
     "name": "stdout",
     "output_type": "stream",
     "text": [
      "Saved 8169 comments to reddit_comments.xlsx\n"
     ]
    }
   ],
   "source": [
    "#7. Or save to Excel Spreadsheet\n",
    "df.to_excel(\"data/ghana_subreddit_comments.xlsx\", index=False, engine='openpyxl')\n",
    "\n",
    "print(f\"Saved {len(df)} comments to reddit_comments.xlsx\")"
   ]
  }
 ],
 "metadata": {
  "kernelspec": {
   "display_name": "Python 3 (ipykernel)",
   "language": "python",
   "name": "python3"
  },
  "language_info": {
   "codemirror_mode": {
    "name": "ipython",
    "version": 3
   },
   "file_extension": ".py",
   "mimetype": "text/x-python",
   "name": "python",
   "nbconvert_exporter": "python",
   "pygments_lexer": "ipython3",
   "version": "3.13.5"
  }
 },
 "nbformat": 4,
 "nbformat_minor": 5
}
